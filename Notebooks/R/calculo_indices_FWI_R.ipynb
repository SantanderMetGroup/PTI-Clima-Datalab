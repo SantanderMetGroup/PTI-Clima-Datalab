{
 "cells": [
  {
   "cell_type": "markdown",
   "id": "5ff4325a-b721-418f-a570-5e25cf304825",
   "metadata": {},
   "source": [
    "# PTI-Clima Notebooks  <img src=\"https://www.r-project.org/logo/Rlogo.png\" alt=\"Description\" width=\"60\" height=\"40\">\n",
    "\n",
    "***\n",
    "\n",
    "> Este cuaderno o notebook muestra las operaciones básicas para calcular el Índice Meteorológico de Incendios (Fire Weather Index ;FWI) utilizando los conjuntos de datos de la PTI-Clima que se incluyen en el [almacén de datos](https://pti.climate.ifca.es/data). Este trabajo está licenciado bajo una [Licencia Creative Commons Atribución 4.0 Internacional](http://creativecommons.org/licenses/by/4.0).\n",
    ">\n",
    "> ![Licencia de Creative Commons](https://i.creativecommons.org/l/by/4.0/88x31.png)\n"
   ]
  },
  {
   "cell_type": "markdown",
   "id": "162ac4dd-ccdd-4c06-abe3-ef41b6520825",
   "metadata": {},
   "source": [
    "## Guía para el cálculo del FWI\n",
    "\n",
    "**O. Mirones** (Instituto de Física de Cantabria, CSIC-Universidad de Cantabria, Santander, Spain).\n",
    "\n",
    "**¡Bienvenidos al cuaderno \"Guía para el cálculo del FWI\" de la Plataforma Virtual de Cálculo de la PTI-Clima!**  \n",
    "Esta guía está diseñada para ayudarte a sacar el máximo provecho de los numerosos recursos disponibles en el [**Almacén de Datos de la PTI-Clima**](https://pti.climate.ifca.es/data). A través de esta plataforma, podrás realizar investigaciones y **análisis climáticos de relevancia**, ya que ofrece **acceso transparente a una amplia gama de materiales y datos** subyacentes a los **servicios climáticos desarrollados en la PTI-Clima**, fomentando su **reutilización** y posibilitando la **reproducibilidad** de los productos generados.\n",
    "\n",
    "Concretamente en esta guía vamos a tratar de calcular el Índice Meteorológico de Incendios (Fire Weather Index), al que nos referiremos como FWI, a través de la plataforma. Esta guía se divide en varias secciones. Comenzaremos describiendo el objetivo general y algunas de las consideraciones importantes a tener en cuenta en el cálculo de dicho índice. A continuación, profundizaremos en la carga de datos de las variables necesarias así como operaciones básicas de los datos para adecuarlas al cálculo del índice. Finalmente, una vez cálculado realizaremos algunas visualizaciones, como gráficos espaciales o series temporales. **Te guiaremos a través de los pasos fundamentales para comenzar a trabajar de manera efectiva con datos climáticos**. Para esto último, utilizaremos el **framework *climate4R***, un conjunto de librerías de R para la carga, post-procesamiento y análisis de datos climáticos. \n",
    "\n",
    "<img src=\"https://raw.githubusercontent.com/SantanderMetGroup/climate4R/refs/heads/devel/man/figures/climate4R_logo.svg\" alt=\"Description\" width=\"60\" height=\"40\">\n",
    "\n",
    "***climate4R*** ofrece más funcionalidades de las que se ilustran en este notebook, como **funcionalidades de operaciones espaciales y temporales** o como **interpolación, subsetting o intersección espacial**. Además, brinda funcionalidades para la **corrección de sesgo y downscaling** o funciones específicas para el **cálculo del FWI**. Consulta [Iturbide et al., 2019](https://www.sciencedirect.com/science/article/pii/S1364815218303049?via%3Dihub) y el repositorio de [github de climate4R](https://github.com/SantanderMetGroup/climate4R) para más información."
   ]
  },
  {
   "cell_type": "markdown",
   "id": "0f04dee0-0a6e-498b-9201-ff0a1efa2f3f",
   "metadata": {},
   "source": [
    "Antes de empezar definiremos el heap space de java."
   ]
  },
  {
   "cell_type": "code",
   "execution_count": 1,
   "id": "84cb09c2-377f-4e53-b00d-68867196165d",
   "metadata": {},
   "outputs": [],
   "source": [
    "options(java.parameters = \"-Xmx20g\")"
   ]
  },
  {
   "cell_type": "markdown",
   "id": "a6a25a07-80be-4c6d-a9ad-0d8c95b5e19b",
   "metadata": {},
   "source": [
    "### Contenido de este cuaderno:\n",
    "*  [1 Características del FWI](#1-bullet)\n",
    "   *  [1.1 Componentes del FWI](#1.1-bullet)\n",
    "   *  [1.2 Datos necesarios](#1.2-bullet)\n",
    "   *  [1.3 Consideraciones importantes](#1.3-bullet)\n",
    "*  [2. ¿Cómo calcular el FWI en la plataforma?](#2-bullet)\n",
    "   *  [2.1 Librerías de climate4R](#2.1-bullet)\n",
    "   *  [2.2 Carga de variables](#2.2-bullet)\n",
    "   *  [2.3 Cálculo del FWI](#2.3-bullet)\n",
    "   *  [2.4 Visualizaciones espaciales y temporales](#2.4-bullet)\n",
    "*  [3. Session Info](#3-bullet)"
   ]
  },
  {
   "cell_type": "markdown",
   "id": "b807a8df-2c5a-4d2b-89ce-1b2d8ebdbf72",
   "metadata": {},
   "source": [
    "## 1 Características del FWI <a class=\"anchor\" id=\"1-bullet\"></a>\n",
    "\n",
    "El FWI proporciona una métrica única para evaluar el peligro de incendio, derivada de **seis componentes interrelacionados**. Estos componentes representan colectivamente los efectos del clima en varias capas de combustible, desde la hojarasca superficial hasta la materia orgánica profunda.\n",
    "\n",
    "\n",
    "### 1.1 Componentes del FWI <a class=\"anchor\" id=\"1.1-bullet\"></a>"
   ]
  },
  {
   "cell_type": "markdown",
   "id": "c11838e6-769b-4ec6-898e-05d9d6b5df9e",
   "metadata": {},
   "source": [
    "\n",
    "+ 1. **Índice de Humedad de Combustible Fino (Fine Fuel Moisture Code; FFMC)**\n",
    "      \n",
    "       - Represents the moisture content of surface litter and fine fuels.\n",
    "       - Afectado por las condiciones meteorológicas diarias como la temperatura, la humedad, la velocidad del viento y las precipitaciones.\n",
    "       - Valores más altos indican combustibles finos más secos y más inflamables.\n",
    "       \n",
    "+ 2. **Índice de Humedad del Mantillo (Duff Moisture Code; DMC)**\n",
    "      \n",
    "       - Refleja el contenido de humedad de capas orgánicas sueltas y compactadas (por ejemplo, mantillo).\n",
    "       - Sensible a las tendencias meteorológicas a más largo plazo, especialmente a las precipitaciones y la temperatura.\n",
    "       - Valores más altos indican condiciones más secas y mayor combustibilidad.\n",
    "       \n",
    "+ 3. **Índice de Sequía (Drought Code; DC)**\n",
    "      \n",
    "       - Rastrea el contenido de humedad de capas orgánicas profundas y compactas, como el humus.\n",
    "       - Responde lentamente a las precipitaciones y la temperatura, indicando tendencias de secado o humedecimiento a largo plazo.\n",
    "       - Valores más altos significan un secado más profundo y un riesgo de incendio persistente.\n",
    "       \n",
    "+ 4. **Índice de Propagación Inicial (Initial Spread Index; ISI)**\n",
    "      \n",
    "       - Combina el FFMC y la velocidad del viento para estimar la posible tasa de propagación del fuego.\n",
    "       - Valores más altos sugieren una propagación más rápida del fuego bajo las condiciones dadas.\n",
    "       \n",
    "+ 5. **Índice de Acumulación (Buildup Index; BUI)**\n",
    "      \n",
    "       - Combina el DMC y el DC para estimar el combustible total disponible para la combustión.\n",
    "       - Valores altos implican una mayor cantidad de material combustible.\n",
    "       \n",
    "+ 6. **Fire Weather Index (FWI)**\n",
    "        \n",
    "       - Integra el ISI y el BUI para proporcionar una medida única del potencial de intensidad del fuego.\n",
    "       - Valores altos indican mayor peligro e intensidad del fuego.\n"
   ]
  },
  {
   "cell_type": "markdown",
   "id": "9a5cb0c6-03bb-4a62-953d-a2a85d11bf3e",
   "metadata": {},
   "source": [
    "### 1.2 Datos necesarios <a class=\"anchor\" id=\"1.2-bullet\"></a>\n",
    "Para el cálculo del FWI (y de sus componentes), necesitamos los siguientes datos meteorológicos:\n",
    "\n",
    "+ **Temperatura (°C)**: Temperatura máxima diaria, que influye en el secado de los combustibles y la evaporación de la humedad.\n",
    "+ **Humedad relativa (%)**: Humedad relativa mínima diaria, que afecta las tasas de evaporación y la humedad de los combustibles.\n",
    "+ **Velocidad de viento (km/h)**: Velocidad media o máxima diaria del viento, crucial para evaluar el potencial de propagación del fuego.\n",
    "+ **Precipitación (mm)**: Precipitación total diaria, que repone la humedad en las capas de combustible.\n",
    "\n",
    "***ATENCIÓN*** : El cálculo del FWI se realiza con las variables medidas al mediodía de la hora local (noon local standard time). En el caso de la Península Ibérica la hora local equivale a las 12:00 UTC. Sin embargo, como veremos más adelante debido a la disponibilidad de datos, tendremos que realizar el cálculo del índice a través de medias diarias. Por tanto el índice que vamos a calcular va a resultar en una aproximación del FWI \"verdadero\". Sin embargo, el procedimiento de cálculo es análogo."
   ]
  },
  {
   "cell_type": "markdown",
   "id": "047746d3-728c-40ca-82fb-b113fb79be79",
   "metadata": {},
   "source": [
    "### 1.3 Consideraciones Importantes <a class=\"anchor\" id=\"1.3-bullet\"></a>\n",
    "\n",
    "+ 1. **Marco Temporal**\n",
    "     - El FWI generalmente se calcula diariamente, pero pueden ser necesarias actualizaciones en tiempo real en condiciones meteorológicas dinámicas.\n",
    "+ 2. **Limitaciones**\n",
    "     - El FWI no tiene en cuenta la humedad de la vegetación viva ni los efectos de los esfuerzos de supresión de incendios. Se enfoca únicamente en el potencial de incendios impulsado por el clima.\n",
    "+ 3. **Aplicaciones**\n",
    "     - Utilizado por agencias de gestión de incendios para la asignación de recursos, alertas públicas y preparación ante incendios forestales."
   ]
  },
  {
   "cell_type": "markdown",
   "id": "9937802c-d3ad-493c-8334-3989a0b0a212",
   "metadata": {},
   "source": [
    "## 2 ¿Cómo calcular el FWI en la plataforma? <a class=\"anchor\" id=\"2-bullet\"></a>\n",
    "\n",
    "### 2.1 Librerías de climate4R <a class=\"anchor\" id=\"2.1-bullet\"></a>\n",
    "\n",
    "`climate4R` es un conjunto de paquetes de `R` diseñado para el acceso transparente a datos climáticos, procesamiento posterior (incluyendo la colocación de datos, corrección de sesgo y downscaling), y visualización. Se basa en dos estructuras principales de datos (rejilla y estación) para manejar datos de observaciones, reanálisis, pronósticos estacionales y proyecciones climáticas. Además, considera los miembros del conjunto como una dimensión básica de las estructuras de datos. A continuación, se describen las librerías de `climate4R` utilizadas en este cuaderno:\n",
    "\n",
    "+ **loadeR**\n",
    "  \n",
    "  - Es un paquete de `R` para el acceso a datos climáticos basado en la API `NetCDF-Java`.\n",
    "  - Permite un acceso fácil a datos desde ubicaciones locales o remotas (por ejemplo, servidores `OPeNDAP`).\n",
    "  - Está completamente integrado con el `User Data Gateway (UDG)`, un servicio de datos climáticos mantenido por el ***Grupo de Meteorología de Santander***.\n",
    "  - Ha sido concebido para trabajar en estudios de pronósticos estacionales y de cambio climático.\n",
    "\n",
    "\n",
    "+ **transformeR**\n",
    "  - Un paquete de `R` para la manipulación y transformación de datos climáticos.\n",
    "  - Incluye funcionalidades como el recorte, remuestreo y conversión de datos.\n",
    "\n",
    "+ **fireDanger**\n",
    "  - Un paquete de `R` para la implementación del FWI.\n",
    "  - Utiliza datos de pronósticos estacionales y otros conjuntos de datos climáticos como entrada.\n",
    "\n",
    "+ **visualizeR**\n",
    "  - Un paquete de `R` para la visualización de datos climáticos.\n",
    "  - Está especialmente enfocado en los pronósticos por conjuntos y la comunicación de incertidumbre.\n",
    "  - Incluye funciones para visualizar productos climatológicos, de pronóstico y de evaluación, así como combinaciones de estos.\n",
    "+ **convertR**\n",
    "  - Un paquete de `R` que realiza la conversión de unidades y la derivación de variables utilizando el Modelo de Datos Común de climate4R\n"
   ]
  },
  {
   "cell_type": "code",
   "execution_count": 2,
   "id": "27f61975-dc70-483c-b691-02ba83af8bf0",
   "metadata": {},
   "outputs": [
    {
     "name": "stderr",
     "output_type": "stream",
     "text": [
      "Loading required package: rJava\n",
      "\n",
      "Loading required package: loadeR.java\n",
      "\n",
      "Java version 22x amd64 by N/A detected\n",
      "\n",
      "NetCDF Java Library v4.6.0-SNAPSHOT (23 Apr 2015) loaded and ready\n",
      "\n",
      "Loading required package: climate4R.UDG\n",
      "\n",
      "climate4R.UDG version 0.2.6 (2023-06-26) is loaded\n",
      "\n",
      "Please use 'citation(\"climate4R.UDG\")' to cite this package.\n",
      "\n",
      "loadeR version 1.8.1 (2023-06-22) is loaded\n",
      "\n",
      "WARNING: Your current version of loadeR (v1.8.1) is not up-to-date\n",
      "\n",
      "Get the latest stable version (1.8.2) using <devtools::install_github(c('SantanderMetGroup/climate4R.UDG','SantanderMetGroup/loadeR'))>\n",
      "\n",
      "Please use 'citation(\"loadeR\")' to cite this package.\n",
      "\n"
     ]
    },
    {
     "name": "stdout",
     "output_type": "stream",
     "text": [
      "\n",
      "    _______   ____  ___________________  __  ________ \n",
      "   / ___/ /  / /  |/  / __  /_  __/ __/ / / / / __  / \n",
      "  / /  / /  / / /|_/ / /_/ / / / / __/ / /_/ / /_/_/  \n",
      " / /__/ /__/ / /  / / __  / / / / /__ /___  / / \\ \\ \n",
      " \\___/____/_/_/  /_/_/ /_/ /_/  \\___/    /_/\\/   \\_\\ \n",
      " \n",
      "      github.com/SantanderMetGroup/climate4R\n",
      "\n"
     ]
    },
    {
     "name": "stderr",
     "output_type": "stream",
     "text": [
      "transformeR version 2.2.2 (2023-10-26) is loaded\n",
      "\n",
      "WARNING: Your current version of transformeR (v2.2.2) is not up-to-date\n",
      "\n",
      "Get the latest stable version (2.2.3) using <devtools::install_github('SantanderMetGroup/transformeR')>\n",
      "\n",
      "Please see 'citation(\"transformeR\")' to cite this package.\n",
      "\n",
      "fireDanger version 1.1.0 (2018-10-04) is loaded\n",
      "\n",
      "Type <vignette(\"Climate_Services_2017\", package = \"fireDanger\")> for package overview and examples\n",
      "Please use citation(\"fireDanger\") to cite this package.\n",
      "\n",
      "visualizeR version 1.6.4 (2023-10-26) is loaded\n",
      "\n",
      "Please see 'citation(\"visualizeR\")' to cite this package.\n",
      "\n",
      "Loading required package: udunits2\n",
      "\n",
      "udunits system database read from /opt/conda/envs/climate4r/lib/R/library/udunits2/share/udunits2.xml\n",
      "\n",
      "convertR version 0.2.1 (2023-06-22) is loaded\n",
      "\n",
      "  More information about the 'climate4R' ecosystem in: http://meteo.unican.es/climate4R\n",
      "\n",
      "\n",
      "Attaching package: ‘convertR’\n",
      "\n",
      "\n",
      "The following objects are masked from ‘package:loadeR’:\n",
      "\n",
      "    hurs2huss, huss2hurs, tdps2hurs\n",
      "\n",
      "\n"
     ]
    }
   ],
   "source": [
    "library(loadeR)\n",
    "library(transformeR)\n",
    "library(fireDanger)\n",
    "library(visualizeR)\n",
    "library(RColorBrewer)\n",
    "library(convertR)"
   ]
  },
  {
   "cell_type": "markdown",
   "id": "735f82d0-7264-4cb4-be6a-a80877274b1b",
   "metadata": {},
   "source": [
    "### 2.2 Carga de variables <a class=\"anchor\" id=\"2.2-bullet\"></a>\n"
   ]
  },
  {
   "cell_type": "markdown",
   "id": "e8ebaff4-9349-4e80-9765-38260f5d42b3",
   "metadata": {},
   "source": [
    "El inventario (`data_inventory.csv`) cataloga la lista de archivos del [**Almacén de datos de la PTI-Clima**](https://pti.climate.ifca.es/data).\n",
    "\n",
    "Simplemente necesitamos leer este archivo con la función `read.csv` para obtener el `data.frame` con esta información, que contiene seis columnas: `location`, `type`, `variable`, `project`, `experiment`, `frequency`."
   ]
  },
  {
   "cell_type": "code",
   "execution_count": 3,
   "id": "5f986ec8-f3a2-4901-b70b-43b951dc7813",
   "metadata": {},
   "outputs": [],
   "source": [
    "df <- read.csv(\"../../data_inventory.csv\")"
   ]
  },
  {
   "cell_type": "markdown",
   "id": "86e78da4-fabb-491f-affa-48272083eb18",
   "metadata": {},
   "source": [
    "Podremos ver las primeras filas del `data.frame` resultande con la función `head`."
   ]
  },
  {
   "cell_type": "code",
   "execution_count": 4,
   "id": "dc7704e3-f934-4921-a999-d4b78ff6e12e",
   "metadata": {},
   "outputs": [
    {
     "data": {
      "text/html": [
       "<table class=\"dataframe\">\n",
       "<caption>A data.frame: 6 × 9</caption>\n",
       "<thead>\n",
       "\t<tr><th></th><th scope=col>dataset</th><th scope=col>type</th><th scope=col>access</th><th scope=col>source</th><th scope=col>provider</th><th scope=col>experiment</th><th scope=col>frequency</th><th scope=col>endpoint</th><th scope=col>dictionary</th></tr>\n",
       "\t<tr><th></th><th scope=col>&lt;chr&gt;</th><th scope=col>&lt;chr&gt;</th><th scope=col>&lt;chr&gt;</th><th scope=col>&lt;chr&gt;</th><th scope=col>&lt;chr&gt;</th><th scope=col>&lt;chr&gt;</th><th scope=col>&lt;chr&gt;</th><th scope=col>&lt;chr&gt;</th><th scope=col>&lt;chr&gt;</th></tr>\n",
       "</thead>\n",
       "<tbody>\n",
       "\t<tr><th scope=row>1</th><td>AEMET-5KM-regular_Iberia_day</td><td>observations</td><td>opendap</td><td>AEMET-5KM-regular</td><td></td><td></td><td>day</td><td>https://data.meteo.unican.es/thredds/dodsC/PTI-clima/observations/AEMET-5KM-regular_Iberia_day.ncml</td><td>../../Harmonization_dictionaries/AEMET-5KM-regular.dic</td></tr>\n",
       "\t<tr><th scope=row>2</th><td>CHELSA-W5E5v1.0_Canarias_day</td><td>observations</td><td>opendap</td><td>CHELSA-W5E5v1.0  </td><td></td><td></td><td>day</td><td>https://data.meteo.unican.es/thredds/dodsC/PTI-clima/observations/CHELSA-W5E5v1.0_Canarias_day.ncml</td><td>../../Harmonization_dictionaries/CHELSA-W5E5v1.0.dic  </td></tr>\n",
       "\t<tr><th scope=row>3</th><td>CHELSA-W5E5v1.0_Iberia_day  </td><td>observations</td><td>opendap</td><td>CHELSA-W5E5v1.0  </td><td></td><td></td><td>day</td><td>https://data.meteo.unican.es/thredds/dodsC/PTI-clima/observations/CHELSA-W5E5v1.0_Iberia_day.ncml  </td><td>../../Harmonization_dictionaries/CHELSA-W5E5v1.0.dic  </td></tr>\n",
       "\t<tr><th scope=row>4</th><td>PTI-grid-v0_Canarias_day    </td><td>observations</td><td>opendap</td><td>PTI-grid-v0      </td><td></td><td></td><td>day</td><td>https://data.meteo.unican.es/thredds/dodsC/PTI-clima/observations/PTI-grid-v0_Canarias_day.ncml    </td><td>../../Harmonization_dictionaries/PTI-grid-v0.dic      </td></tr>\n",
       "\t<tr><th scope=row>5</th><td>PTI-grid-v0_Iberia_day      </td><td>observations</td><td>opendap</td><td>PTI-grid-v0      </td><td></td><td></td><td>day</td><td>https://data.meteo.unican.es/thredds/dodsC/PTI-clima/observations/PTI-grid-v0_Iberia_day.ncml      </td><td>../../Harmonization_dictionaries/PTI-grid-v0.dic      </td></tr>\n",
       "\t<tr><th scope=row>6</th><td>PTI-grid-v1_Canarias_day    </td><td>observations</td><td>opendap</td><td>PTI-grid-v1      </td><td></td><td></td><td>day</td><td>https://data.meteo.unican.es/thredds/dodsC/PTI-clima/observations/PTI-grid-v1_Canarias_day.ncml    </td><td>../../Harmonization_dictionaries/PTI-grid-v1.dic      </td></tr>\n",
       "</tbody>\n",
       "</table>\n"
      ],
      "text/latex": [
       "A data.frame: 6 × 9\n",
       "\\begin{tabular}{r|lllllllll}\n",
       "  & dataset & type & access & source & provider & experiment & frequency & endpoint & dictionary\\\\\n",
       "  & <chr> & <chr> & <chr> & <chr> & <chr> & <chr> & <chr> & <chr> & <chr>\\\\\n",
       "\\hline\n",
       "\t1 & AEMET-5KM-regular\\_Iberia\\_day & observations & opendap & AEMET-5KM-regular &  &  & day & https://data.meteo.unican.es/thredds/dodsC/PTI-clima/observations/AEMET-5KM-regular\\_Iberia\\_day.ncml & ../../Harmonization\\_dictionaries/AEMET-5KM-regular.dic\\\\\n",
       "\t2 & CHELSA-W5E5v1.0\\_Canarias\\_day & observations & opendap & CHELSA-W5E5v1.0   &  &  & day & https://data.meteo.unican.es/thredds/dodsC/PTI-clima/observations/CHELSA-W5E5v1.0\\_Canarias\\_day.ncml & ../../Harmonization\\_dictionaries/CHELSA-W5E5v1.0.dic  \\\\\n",
       "\t3 & CHELSA-W5E5v1.0\\_Iberia\\_day   & observations & opendap & CHELSA-W5E5v1.0   &  &  & day & https://data.meteo.unican.es/thredds/dodsC/PTI-clima/observations/CHELSA-W5E5v1.0\\_Iberia\\_day.ncml   & ../../Harmonization\\_dictionaries/CHELSA-W5E5v1.0.dic  \\\\\n",
       "\t4 & PTI-grid-v0\\_Canarias\\_day     & observations & opendap & PTI-grid-v0       &  &  & day & https://data.meteo.unican.es/thredds/dodsC/PTI-clima/observations/PTI-grid-v0\\_Canarias\\_day.ncml     & ../../Harmonization\\_dictionaries/PTI-grid-v0.dic      \\\\\n",
       "\t5 & PTI-grid-v0\\_Iberia\\_day       & observations & opendap & PTI-grid-v0       &  &  & day & https://data.meteo.unican.es/thredds/dodsC/PTI-clima/observations/PTI-grid-v0\\_Iberia\\_day.ncml       & ../../Harmonization\\_dictionaries/PTI-grid-v0.dic      \\\\\n",
       "\t6 & PTI-grid-v1\\_Canarias\\_day     & observations & opendap & PTI-grid-v1       &  &  & day & https://data.meteo.unican.es/thredds/dodsC/PTI-clima/observations/PTI-grid-v1\\_Canarias\\_day.ncml     & ../../Harmonization\\_dictionaries/PTI-grid-v1.dic      \\\\\n",
       "\\end{tabular}\n"
      ],
      "text/markdown": [
       "\n",
       "A data.frame: 6 × 9\n",
       "\n",
       "| <!--/--> | dataset &lt;chr&gt; | type &lt;chr&gt; | access &lt;chr&gt; | source &lt;chr&gt; | provider &lt;chr&gt; | experiment &lt;chr&gt; | frequency &lt;chr&gt; | endpoint &lt;chr&gt; | dictionary &lt;chr&gt; |\n",
       "|---|---|---|---|---|---|---|---|---|---|\n",
       "| 1 | AEMET-5KM-regular_Iberia_day | observations | opendap | AEMET-5KM-regular | <!----> | <!----> | day | https://data.meteo.unican.es/thredds/dodsC/PTI-clima/observations/AEMET-5KM-regular_Iberia_day.ncml | ../../Harmonization_dictionaries/AEMET-5KM-regular.dic |\n",
       "| 2 | CHELSA-W5E5v1.0_Canarias_day | observations | opendap | CHELSA-W5E5v1.0   | <!----> | <!----> | day | https://data.meteo.unican.es/thredds/dodsC/PTI-clima/observations/CHELSA-W5E5v1.0_Canarias_day.ncml | ../../Harmonization_dictionaries/CHELSA-W5E5v1.0.dic   |\n",
       "| 3 | CHELSA-W5E5v1.0_Iberia_day   | observations | opendap | CHELSA-W5E5v1.0   | <!----> | <!----> | day | https://data.meteo.unican.es/thredds/dodsC/PTI-clima/observations/CHELSA-W5E5v1.0_Iberia_day.ncml   | ../../Harmonization_dictionaries/CHELSA-W5E5v1.0.dic   |\n",
       "| 4 | PTI-grid-v0_Canarias_day     | observations | opendap | PTI-grid-v0       | <!----> | <!----> | day | https://data.meteo.unican.es/thredds/dodsC/PTI-clima/observations/PTI-grid-v0_Canarias_day.ncml     | ../../Harmonization_dictionaries/PTI-grid-v0.dic       |\n",
       "| 5 | PTI-grid-v0_Iberia_day       | observations | opendap | PTI-grid-v0       | <!----> | <!----> | day | https://data.meteo.unican.es/thredds/dodsC/PTI-clima/observations/PTI-grid-v0_Iberia_day.ncml       | ../../Harmonization_dictionaries/PTI-grid-v0.dic       |\n",
       "| 6 | PTI-grid-v1_Canarias_day     | observations | opendap | PTI-grid-v1       | <!----> | <!----> | day | https://data.meteo.unican.es/thredds/dodsC/PTI-clima/observations/PTI-grid-v1_Canarias_day.ncml     | ../../Harmonization_dictionaries/PTI-grid-v1.dic       |\n",
       "\n"
      ],
      "text/plain": [
       "  dataset                      type         access  source            provider\n",
       "1 AEMET-5KM-regular_Iberia_day observations opendap AEMET-5KM-regular         \n",
       "2 CHELSA-W5E5v1.0_Canarias_day observations opendap CHELSA-W5E5v1.0           \n",
       "3 CHELSA-W5E5v1.0_Iberia_day   observations opendap CHELSA-W5E5v1.0           \n",
       "4 PTI-grid-v0_Canarias_day     observations opendap PTI-grid-v0               \n",
       "5 PTI-grid-v0_Iberia_day       observations opendap PTI-grid-v0               \n",
       "6 PTI-grid-v1_Canarias_day     observations opendap PTI-grid-v1               \n",
       "  experiment frequency\n",
       "1            day      \n",
       "2            day      \n",
       "3            day      \n",
       "4            day      \n",
       "5            day      \n",
       "6            day      \n",
       "  endpoint                                                                                           \n",
       "1 https://data.meteo.unican.es/thredds/dodsC/PTI-clima/observations/AEMET-5KM-regular_Iberia_day.ncml\n",
       "2 https://data.meteo.unican.es/thredds/dodsC/PTI-clima/observations/CHELSA-W5E5v1.0_Canarias_day.ncml\n",
       "3 https://data.meteo.unican.es/thredds/dodsC/PTI-clima/observations/CHELSA-W5E5v1.0_Iberia_day.ncml  \n",
       "4 https://data.meteo.unican.es/thredds/dodsC/PTI-clima/observations/PTI-grid-v0_Canarias_day.ncml    \n",
       "5 https://data.meteo.unican.es/thredds/dodsC/PTI-clima/observations/PTI-grid-v0_Iberia_day.ncml      \n",
       "6 https://data.meteo.unican.es/thredds/dodsC/PTI-clima/observations/PTI-grid-v1_Canarias_day.ncml    \n",
       "  dictionary                                            \n",
       "1 ../../Harmonization_dictionaries/AEMET-5KM-regular.dic\n",
       "2 ../../Harmonization_dictionaries/CHELSA-W5E5v1.0.dic  \n",
       "3 ../../Harmonization_dictionaries/CHELSA-W5E5v1.0.dic  \n",
       "4 ../../Harmonization_dictionaries/PTI-grid-v0.dic      \n",
       "5 ../../Harmonization_dictionaries/PTI-grid-v0.dic      \n",
       "6 ../../Harmonization_dictionaries/PTI-grid-v1.dic      "
      ]
     },
     "metadata": {},
     "output_type": "display_data"
    }
   ],
   "source": [
    "head(df)"
   ]
  },
  {
   "cell_type": "markdown",
   "id": "396561f4-ad2d-4465-9f93-990f0a2932ed",
   "metadata": {},
   "source": [
    "Se observan diferentes columnas o campos que describen los datos:"
   ]
  },
  {
   "cell_type": "markdown",
   "id": "19971077-2944-4b72-8e03-84177156ed52",
   "metadata": {},
   "source": [
    "* `dataset` se refiere al nombre que se le da a cada instancia de datos en el almacén.\n",
    "* `type` se refiere al tipo de los conjuntos de datos, ya sea \"observaciones\" (observations), \"reanalisis\" (reanalysis) o proyecciones (projections).\n",
    "* `source` se refiere al conjuntos de datos de origen (p. ej., CORDEX-EUR, CMIP5, CMIP6, etc.).  \n",
    "* `provider` se refiere a la entidad distribuidora de donde se obtuvieron los datos originales.  \n",
    "* `access` se refiere al modo de acceso, ya sea local (netcdf) o remoto (opendap).\n",
    "* `experiment` se refiere al escenario (p. ej., historical, rcp26, ssp126, rcp85, etc.).\n",
    "* `frequency` se refiere a la escala temporal de los datos.\n",
    "* `endpoint` se refiere a la ruta del archivo de datos. Esta ruta es la que se utilizará para cargar los datos más adelante.  "
   ]
  },
  {
   "cell_type": "markdown",
   "id": "cec80cfd-c454-4aa6-9b36-8ba9d644bb34",
   "metadata": {},
   "source": [
    "Podemos **aplicar fácilmente filtros** para obtener el archivo deseado. Por ejemplo, en este cuaderno vamos a calcular el índice con datos de ERA5-Land (reanálisis). En la siguiente celda podemos consultar todos los **datasets de reanálisis** disponibles."
   ]
  },
  {
   "cell_type": "code",
   "execution_count": 5,
   "id": "40a6641f-5c85-4ae2-ae06-5ad75d674463",
   "metadata": {},
   "outputs": [
    {
     "data": {
      "text/html": [
       "<table class=\"dataframe\">\n",
       "<caption>A data.frame: 2 × 9</caption>\n",
       "<thead>\n",
       "\t<tr><th></th><th scope=col>dataset</th><th scope=col>type</th><th scope=col>access</th><th scope=col>source</th><th scope=col>provider</th><th scope=col>experiment</th><th scope=col>frequency</th><th scope=col>endpoint</th><th scope=col>dictionary</th></tr>\n",
       "\t<tr><th></th><th scope=col>&lt;chr&gt;</th><th scope=col>&lt;chr&gt;</th><th scope=col>&lt;chr&gt;</th><th scope=col>&lt;chr&gt;</th><th scope=col>&lt;chr&gt;</th><th scope=col>&lt;chr&gt;</th><th scope=col>&lt;chr&gt;</th><th scope=col>&lt;chr&gt;</th><th scope=col>&lt;chr&gt;</th></tr>\n",
       "</thead>\n",
       "<tbody>\n",
       "\t<tr><th scope=row>119</th><td>ERA5-Land_Canarias_day</td><td>reanalysis</td><td>opendap</td><td>ERA5-Land</td><td>ecmwf</td><td></td><td>day</td><td>https://data.meteo.unican.es/thredds/dodsC/PTI-clima/reanalysis/ERA5-Land_Canarias_day.ncml</td><td>../../Harmonization_dictionaries/ERA5-Land.dic</td></tr>\n",
       "\t<tr><th scope=row>120</th><td>ERA5-Land_Iberia_day  </td><td>reanalysis</td><td>opendap</td><td>ERA5-Land</td><td>ecmwf</td><td></td><td>day</td><td>https://data.meteo.unican.es/thredds/dodsC/PTI-clima/reanalysis/ERA5-Land_Iberia_day.ncml  </td><td>../../Harmonization_dictionaries/ERA5-Land.dic</td></tr>\n",
       "</tbody>\n",
       "</table>\n"
      ],
      "text/latex": [
       "A data.frame: 2 × 9\n",
       "\\begin{tabular}{r|lllllllll}\n",
       "  & dataset & type & access & source & provider & experiment & frequency & endpoint & dictionary\\\\\n",
       "  & <chr> & <chr> & <chr> & <chr> & <chr> & <chr> & <chr> & <chr> & <chr>\\\\\n",
       "\\hline\n",
       "\t119 & ERA5-Land\\_Canarias\\_day & reanalysis & opendap & ERA5-Land & ecmwf &  & day & https://data.meteo.unican.es/thredds/dodsC/PTI-clima/reanalysis/ERA5-Land\\_Canarias\\_day.ncml & ../../Harmonization\\_dictionaries/ERA5-Land.dic\\\\\n",
       "\t120 & ERA5-Land\\_Iberia\\_day   & reanalysis & opendap & ERA5-Land & ecmwf &  & day & https://data.meteo.unican.es/thredds/dodsC/PTI-clima/reanalysis/ERA5-Land\\_Iberia\\_day.ncml   & ../../Harmonization\\_dictionaries/ERA5-Land.dic\\\\\n",
       "\\end{tabular}\n"
      ],
      "text/markdown": [
       "\n",
       "A data.frame: 2 × 9\n",
       "\n",
       "| <!--/--> | dataset &lt;chr&gt; | type &lt;chr&gt; | access &lt;chr&gt; | source &lt;chr&gt; | provider &lt;chr&gt; | experiment &lt;chr&gt; | frequency &lt;chr&gt; | endpoint &lt;chr&gt; | dictionary &lt;chr&gt; |\n",
       "|---|---|---|---|---|---|---|---|---|---|\n",
       "| 119 | ERA5-Land_Canarias_day | reanalysis | opendap | ERA5-Land | ecmwf | <!----> | day | https://data.meteo.unican.es/thredds/dodsC/PTI-clima/reanalysis/ERA5-Land_Canarias_day.ncml | ../../Harmonization_dictionaries/ERA5-Land.dic |\n",
       "| 120 | ERA5-Land_Iberia_day   | reanalysis | opendap | ERA5-Land | ecmwf | <!----> | day | https://data.meteo.unican.es/thredds/dodsC/PTI-clima/reanalysis/ERA5-Land_Iberia_day.ncml   | ../../Harmonization_dictionaries/ERA5-Land.dic |\n",
       "\n"
      ],
      "text/plain": [
       "    dataset                type       access  source    provider experiment\n",
       "119 ERA5-Land_Canarias_day reanalysis opendap ERA5-Land ecmwf              \n",
       "120 ERA5-Land_Iberia_day   reanalysis opendap ERA5-Land ecmwf              \n",
       "    frequency\n",
       "119 day      \n",
       "120 day      \n",
       "    endpoint                                                                                   \n",
       "119 https://data.meteo.unican.es/thredds/dodsC/PTI-clima/reanalysis/ERA5-Land_Canarias_day.ncml\n",
       "120 https://data.meteo.unican.es/thredds/dodsC/PTI-clima/reanalysis/ERA5-Land_Iberia_day.ncml  \n",
       "    dictionary                                    \n",
       "119 ../../Harmonization_dictionaries/ERA5-Land.dic\n",
       "120 ../../Harmonization_dictionaries/ERA5-Land.dic"
      ]
     },
     "metadata": {},
     "output_type": "display_data"
    }
   ],
   "source": [
    "subset(df, type == \"reanalysis\")"
   ]
  },
  {
   "cell_type": "markdown",
   "id": "b59321ab-5174-498a-b667-7af8cd020971",
   "metadata": {},
   "source": [
    "Seleccionamos el dataset `ERA5-Land_Iberia_day`, y extraemos la ruta del archivo de datos deseado correspondiente o `endpoint`."
   ]
  },
  {
   "cell_type": "code",
   "execution_count": 6,
   "id": "6adeb74f-5b2d-45cc-a713-b4ddb23c732c",
   "metadata": {},
   "outputs": [],
   "source": [
    "endpoint <- subset(df, dataset == \"ERA5-Land_Iberia_day\")[[\"endpoint\"]]"
   ]
  },
  {
   "cell_type": "markdown",
   "id": "f9cfef1b-47fc-4546-8459-6fae9be8ac1d",
   "metadata": {},
   "source": [
    "Una vez que tenemos el `endpoint`, podemos mostrar fácilmente las características de los datos que contiene. Para hacerlo, empleamos la función `dataInventory` del paquete `loadeR`."
   ]
  },
  {
   "cell_type": "code",
   "execution_count": 7,
   "id": "978b2011-ad06-4db0-8f20-7c8df091f1a0",
   "metadata": {},
   "outputs": [
    {
     "name": "stderr",
     "output_type": "stream",
     "text": [
      "[2025-01-17 18:46:02.749198] Doing inventory ...\n",
      "\n",
      "[2025-01-17 18:46:02.917082] Opening dataset...\n",
      "\n",
      "[2025-01-17 18:46:14.470125] The dataset was successfuly opened\n",
      "\n",
      "[2025-01-17 18:46:15.442287] Retrieving info for 'd2m' (7 vars remaining)\n",
      "\n",
      "[2025-01-17 18:46:15.564303] Retrieving info for 'sfcwind' (6 vars remaining)\n",
      "\n",
      "[2025-01-17 18:46:15.630387] Retrieving info for 'sp' (5 vars remaining)\n",
      "\n",
      "[2025-01-17 18:46:15.69366] Retrieving info for 'ssrd' (4 vars remaining)\n",
      "\n",
      "[2025-01-17 18:46:15.799774] Retrieving info for 't2m' (3 vars remaining)\n",
      "\n",
      "[2025-01-17 18:46:15.86416] Retrieving info for 't2mn' (2 vars remaining)\n",
      "\n",
      "[2025-01-17 18:46:15.93339] Retrieving info for 't2mx' (1 vars remaining)\n",
      "\n",
      "[2025-01-17 18:46:15.995219] Retrieving info for 'tp' (0 vars remaining)\n",
      "\n",
      "[2025-01-17 18:46:16.056265] Done.\n",
      "\n"
     ]
    }
   ],
   "source": [
    "di <- dataInventory(endpoint)"
   ]
  },
  {
   "cell_type": "markdown",
   "id": "5b060d3b-09b5-4699-9cb5-75b1748c3560",
   "metadata": {},
   "source": [
    "Podemos echar un primer vistazo a la información disponible con `str`."
   ]
  },
  {
   "cell_type": "code",
   "execution_count": 8,
   "id": "b4b8c767-8a4a-4a8b-808f-60ca34da87ed",
   "metadata": {},
   "outputs": [
    {
     "name": "stdout",
     "output_type": "stream",
     "text": [
      "List of 8\n",
      " $ d2m    :List of 7\n",
      "  ..$ Description: chr \"2 metre dewpoint temperature\"\n",
      "  ..$ DataType   : chr \"float\"\n",
      "  ..$ Shape      : int [1:3] 26632 101 161\n",
      "  ..$ Units      : chr \"K\"\n",
      "  ..$ DataSizeMb : num 1732\n",
      "  ..$ Version    : logi NA\n",
      "  ..$ Dimensions :List of 3\n",
      "  .. ..$ time     :List of 4\n",
      "  .. .. ..$ Type      : chr \"Time\"\n",
      "  .. .. ..$ TimeStep  : chr \"1.0 days\"\n",
      "  .. .. ..$ Units     : chr \"days since 1950-02-01 00:00:00\"\n",
      "  .. .. ..$ Date_range: chr \"1950-02-01T00:00:00Z - 2022-12-31T00:00:00Z\"\n",
      "  .. ..$ latitude :List of 5\n",
      "  .. .. ..$ Type       : chr \"Lat\"\n",
      "  .. .. ..$ Units      : chr \"degrees_north\"\n",
      "  .. .. ..$ Values     : num [1:101] 44 43.9 43.8 43.7 43.6 ...\n",
      "  .. .. ..$ Shape      : int 101\n",
      "  .. .. ..$ Coordinates: chr \"latitude\"\n",
      "  .. ..$ longitude:List of 5\n",
      "  .. .. ..$ Type       : chr \"Lon\"\n",
      "  .. .. ..$ Units      : chr \"degrees_east\"\n",
      "  .. .. ..$ Values     : num [1:161] -10 -9.9 -9.8 -9.7 -9.6 ...\n",
      "  .. .. ..$ Shape      : int 161\n",
      "  .. .. ..$ Coordinates: chr \"longitude\"\n",
      " $ sfcwind:List of 7\n",
      "  ..$ Description: chr \"daily mean wind speed\"\n",
      "  ..$ DataType   : chr \"float\"\n",
      "  ..$ Shape      : int [1:3] 26632 101 161\n",
      "  ..$ Units      : chr \"m s**-1\"\n",
      "  ..$ DataSizeMb : num 1732\n",
      "  ..$ Version    : logi NA\n",
      "  ..$ Dimensions :List of 3\n",
      "  .. ..$ time     :List of 4\n",
      "  .. .. ..$ Type      : chr \"Time\"\n",
      "  .. .. ..$ TimeStep  : chr \"1.0 days\"\n",
      "  .. .. ..$ Units     : chr \"days since 1950-02-01 00:00:00\"\n",
      "  .. .. ..$ Date_range: chr \"1950-02-01T00:00:00Z - 2022-12-31T00:00:00Z\"\n",
      "  .. ..$ latitude :List of 5\n",
      "  .. .. ..$ Type       : chr \"Lat\"\n",
      "  .. .. ..$ Units      : chr \"degrees_north\"\n",
      "  .. .. ..$ Values     : num [1:101] 44 43.9 43.8 43.7 43.6 ...\n",
      "  .. .. ..$ Shape      : int 101\n",
      "  .. .. ..$ Coordinates: chr \"latitude\"\n",
      "  .. ..$ longitude:List of 5\n",
      "  .. .. ..$ Type       : chr \"Lon\"\n",
      "  .. .. ..$ Units      : chr \"degrees_east\"\n",
      "  .. .. ..$ Values     : num [1:161] -10 -9.9 -9.8 -9.7 -9.6 ...\n",
      "  .. .. ..$ Shape      : int 161\n",
      "  .. .. ..$ Coordinates: chr \"longitude\"\n",
      " $ sp     :List of 7\n",
      "  ..$ Description: chr \"Surface pressure\"\n",
      "  ..$ DataType   : chr \"float\"\n",
      "  ..$ Shape      : int [1:3] 26632 101 161\n",
      "  ..$ Units      : chr \"Pa\"\n",
      "  ..$ DataSizeMb : num 1732\n",
      "  ..$ Version    : logi NA\n",
      "  ..$ Dimensions :List of 3\n",
      "  .. ..$ time     :List of 4\n",
      "  .. .. ..$ Type      : chr \"Time\"\n",
      "  .. .. ..$ TimeStep  : chr \"1.0 days\"\n",
      "  .. .. ..$ Units     : chr \"days since 1950-02-01 00:00:00\"\n",
      "  .. .. ..$ Date_range: chr \"1950-02-01T00:00:00Z - 2022-12-31T00:00:00Z\"\n",
      "  .. ..$ latitude :List of 5\n",
      "  .. .. ..$ Type       : chr \"Lat\"\n",
      "  .. .. ..$ Units      : chr \"degrees_north\"\n",
      "  .. .. ..$ Values     : num [1:101] 44 43.9 43.8 43.7 43.6 ...\n",
      "  .. .. ..$ Shape      : int 101\n",
      "  .. .. ..$ Coordinates: chr \"latitude\"\n",
      "  .. ..$ longitude:List of 5\n",
      "  .. .. ..$ Type       : chr \"Lon\"\n",
      "  .. .. ..$ Units      : chr \"degrees_east\"\n",
      "  .. .. ..$ Values     : num [1:161] -10 -9.9 -9.8 -9.7 -9.6 ...\n",
      "  .. .. ..$ Shape      : int 161\n",
      "  .. .. ..$ Coordinates: chr \"longitude\"\n",
      " $ ssrd   :List of 7\n",
      "  ..$ Description: chr \"Surface solar radiation downwards\"\n",
      "  ..$ DataType   : chr \"float\"\n",
      "  ..$ Shape      : int [1:3] 26632 101 161\n",
      "  ..$ Units      : chr \"J m**-2\"\n",
      "  ..$ DataSizeMb : num 1732\n",
      "  ..$ Version    : logi NA\n",
      "  ..$ Dimensions :List of 3\n",
      "  .. ..$ time:List of 4\n",
      "  .. .. ..$ Type      : chr \"Time\"\n",
      "  .. .. ..$ TimeStep  : chr \"1.0 days\"\n",
      "  .. .. ..$ Units     : chr \"days since 1950-02-01 00:00:00\"\n",
      "  .. .. ..$ Date_range: chr \"1950-02-01T00:00:00Z - 2022-12-31T00:00:00Z\"\n",
      "  .. ..$ lat :List of 5\n",
      "  .. .. ..$ Type       : chr \"Lat\"\n",
      "  .. .. ..$ Units      : chr \"degrees_north\"\n",
      "  .. .. ..$ Values     : num [1:101] 34 34.1 34.2 34.3 34.4 ...\n",
      "  .. .. ..$ Shape      : int 101\n",
      "  .. .. ..$ Coordinates: chr \"lat\"\n",
      "  .. ..$ lon :List of 5\n",
      "  .. .. ..$ Type       : chr \"Lon\"\n",
      "  .. .. ..$ Units      : chr \"degrees_east\"\n",
      "  .. .. ..$ Values     : num [1:161] -10 -9.9 -9.8 -9.7 -9.6 ...\n",
      "  .. .. ..$ Shape      : int 161\n",
      "  .. .. ..$ Coordinates: chr \"lon\"\n",
      " $ t2m    :List of 7\n",
      "  ..$ Description: chr \"2 metre temperature\"\n",
      "  ..$ DataType   : chr \"float\"\n",
      "  ..$ Shape      : int [1:3] 26632 101 161\n",
      "  ..$ Units      : chr \"K\"\n",
      "  ..$ DataSizeMb : num 1732\n",
      "  ..$ Version    : logi NA\n",
      "  ..$ Dimensions :List of 3\n",
      "  .. ..$ time     :List of 4\n",
      "  .. .. ..$ Type      : chr \"Time\"\n",
      "  .. .. ..$ TimeStep  : chr \"1.0 days\"\n",
      "  .. .. ..$ Units     : chr \"days since 1950-02-01 00:00:00\"\n",
      "  .. .. ..$ Date_range: chr \"1950-02-01T00:00:00Z - 2022-12-31T00:00:00Z\"\n",
      "  .. ..$ latitude :List of 5\n",
      "  .. .. ..$ Type       : chr \"Lat\"\n",
      "  .. .. ..$ Units      : chr \"degrees_north\"\n",
      "  .. .. ..$ Values     : num [1:101] 44 43.9 43.8 43.7 43.6 ...\n",
      "  .. .. ..$ Shape      : int 101\n",
      "  .. .. ..$ Coordinates: chr \"latitude\"\n",
      "  .. ..$ longitude:List of 5\n",
      "  .. .. ..$ Type       : chr \"Lon\"\n",
      "  .. .. ..$ Units      : chr \"degrees_east\"\n",
      "  .. .. ..$ Values     : num [1:161] -10 -9.9 -9.8 -9.7 -9.6 ...\n",
      "  .. .. ..$ Shape      : int 161\n",
      "  .. .. ..$ Coordinates: chr \"longitude\"\n",
      " $ t2mn   :List of 7\n",
      "  ..$ Description: chr \"daily minimum temperature\"\n",
      "  ..$ DataType   : chr \"float\"\n",
      "  ..$ Shape      : int [1:3] 26632 101 161\n",
      "  ..$ Units      : chr \"K\"\n",
      "  ..$ DataSizeMb : num 1732\n",
      "  ..$ Version    : logi NA\n",
      "  ..$ Dimensions :List of 3\n",
      "  .. ..$ time     :List of 4\n",
      "  .. .. ..$ Type      : chr \"Time\"\n",
      "  .. .. ..$ TimeStep  : chr \"1.0 days\"\n",
      "  .. .. ..$ Units     : chr \"days since 1950-02-01 00:00:00\"\n",
      "  .. .. ..$ Date_range: chr \"1950-02-01T00:00:00Z - 2022-12-31T00:00:00Z\"\n",
      "  .. ..$ latitude :List of 5\n",
      "  .. .. ..$ Type       : chr \"Lat\"\n",
      "  .. .. ..$ Units      : chr \"degrees_north\"\n",
      "  .. .. ..$ Values     : num [1:101] 44 43.9 43.8 43.7 43.6 ...\n",
      "  .. .. ..$ Shape      : int 101\n",
      "  .. .. ..$ Coordinates: chr \"latitude\"\n",
      "  .. ..$ longitude:List of 5\n",
      "  .. .. ..$ Type       : chr \"Lon\"\n",
      "  .. .. ..$ Units      : chr \"degrees_east\"\n",
      "  .. .. ..$ Values     : num [1:161] -10 -9.9 -9.8 -9.7 -9.6 ...\n",
      "  .. .. ..$ Shape      : int 161\n",
      "  .. .. ..$ Coordinates: chr \"longitude\"\n",
      " $ t2mx   :List of 7\n",
      "  ..$ Description: chr \"daily maximum temperature\"\n",
      "  ..$ DataType   : chr \"float\"\n",
      "  ..$ Shape      : int [1:3] 26632 101 161\n",
      "  ..$ Units      : chr \"K\"\n",
      "  ..$ DataSizeMb : num 1732\n",
      "  ..$ Version    : logi NA\n",
      "  ..$ Dimensions :List of 3\n",
      "  .. ..$ time     :List of 4\n",
      "  .. .. ..$ Type      : chr \"Time\"\n",
      "  .. .. ..$ TimeStep  : chr \"1.0 days\"\n",
      "  .. .. ..$ Units     : chr \"days since 1950-02-01 00:00:00\"\n",
      "  .. .. ..$ Date_range: chr \"1950-02-01T00:00:00Z - 2022-12-31T00:00:00Z\"\n",
      "  .. ..$ latitude :List of 5\n",
      "  .. .. ..$ Type       : chr \"Lat\"\n",
      "  .. .. ..$ Units      : chr \"degrees_north\"\n",
      "  .. .. ..$ Values     : num [1:101] 44 43.9 43.8 43.7 43.6 ...\n",
      "  .. .. ..$ Shape      : int 101\n",
      "  .. .. ..$ Coordinates: chr \"latitude\"\n",
      "  .. ..$ longitude:List of 5\n",
      "  .. .. ..$ Type       : chr \"Lon\"\n",
      "  .. .. ..$ Units      : chr \"degrees_east\"\n",
      "  .. .. ..$ Values     : num [1:161] -10 -9.9 -9.8 -9.7 -9.6 ...\n",
      "  .. .. ..$ Shape      : int 161\n",
      "  .. .. ..$ Coordinates: chr \"longitude\"\n",
      " $ tp     :List of 7\n",
      "  ..$ Description: chr \"Total precipitation\"\n",
      "  ..$ DataType   : chr \"float\"\n",
      "  ..$ Shape      : int [1:3] 26632 101 161\n",
      "  ..$ Units      : chr \"m\"\n",
      "  ..$ DataSizeMb : num 1732\n",
      "  ..$ Version    : logi NA\n",
      "  ..$ Dimensions :List of 3\n",
      "  .. ..$ time:List of 4\n",
      "  .. .. ..$ Type      : chr \"Time\"\n",
      "  .. .. ..$ TimeStep  : chr \"1.0 days\"\n",
      "  .. .. ..$ Units     : chr \"days since 1950-02-01 00:00:00\"\n",
      "  .. .. ..$ Date_range: chr \"1950-02-01T00:00:00Z - 2022-12-31T00:00:00Z\"\n",
      "  .. ..$ lat :List of 5\n",
      "  .. .. ..$ Type       : chr \"Lat\"\n",
      "  .. .. ..$ Units      : chr \"degrees_north\"\n",
      "  .. .. ..$ Values     : num [1:101] 34 34.1 34.2 34.3 34.4 ...\n",
      "  .. .. ..$ Shape      : int 101\n",
      "  .. .. ..$ Coordinates: chr \"lat\"\n",
      "  .. ..$ lon :List of 5\n",
      "  .. .. ..$ Type       : chr \"Lon\"\n",
      "  .. .. ..$ Units      : chr \"degrees_east\"\n",
      "  .. .. ..$ Values     : num [1:161] -10 -9.9 -9.8 -9.7 -9.6 ...\n",
      "  .. .. ..$ Shape      : int 161\n",
      "  .. .. ..$ Coordinates: chr \"lon\"\n"
     ]
    }
   ],
   "source": [
    "str(di)"
   ]
  },
  {
   "cell_type": "markdown",
   "id": "d0faac75-ed36-425c-8069-ccfe4e8b4a26",
   "metadata": {},
   "source": [
    "Vemos que hay varias variables disponibles: d2m, sfcwind, sp, ssrd, t2m, t2mn, t2mx, tp. Para cada una de ellas se detalla información adicional, como las unidades,el periodo temporal que cubren, las coordenadas etc. \n",
    "\n",
    "Existe la opción de **armonizar estos datos en el momento de la carga a través del uso de diccionarios**, que transforman unidades y nombres de variable al estándar establecido en este framework. Esto **se describe en detalle en el notebook `primeros_pasos_R.ipynb`**. También se ilustra en el notebook `intercomp_rejillas_obs_R.ipynb`. \n",
    "\n",
    "Sin embargo, **en este notebook ilustramos la posibilidad de realizar esas transformaciones a posteriori, por lo que no se utilizará el diccionario**.\n",
    "\n"
   ]
  },
  {
   "cell_type": "markdown",
   "id": "e13d9947-e0cd-48c8-94b7-14ddaa26c774",
   "metadata": {},
   "source": [
    "Ahora, estamos en disposición de cargar las variables necesarias para el cálculo del índice. Como se mencionaba previamente en la sección [1.2 Datos necesarios](#1.2-bullet), necesitamos la temperatura, la humedad relativa, la precipitación y la velocidad del viento. Sin embargo, observamos en el catálogo cómo no está disponible la humedad. Para solucionarlo, aproximaremos la humedad relativa mediante la temperatura y el punto de rocío (d2m) mediante la función `tdps2hurs` del paquete `convertR`. \n",
    "\n",
    "***Atención*** : Es importante tener en cuenta que lo **óptimo es utilizar la variable humedad relativa**, al no estar dentro del conjunto de variables disponibles, estamos obligados a utilizar esta **aproximación** que en ningún caso es la humedad relativa real."
   ]
  },
  {
   "cell_type": "markdown",
   "id": "1bbae32c-e722-40d4-9d63-f83cc9efa119",
   "metadata": {},
   "source": [
    "Utilizando la ayuda de la función `fwiGrid` del paquete fireDanger podemos ver que variables son necesarias y en que unidades deben estar estas, así como otras especificaciones de la función."
   ]
  },
  {
   "cell_type": "code",
   "execution_count": 9,
   "id": "a52a7b6c-e7e6-4dcd-8ada-b16bee2e050d",
   "metadata": {},
   "outputs": [
    {
     "data": {
      "text/html": [
       "\n",
       "<table style=\"width: 100%;\"><tr><td>fwiGrid {fireDanger}</td><td style=\"text-align: right;\">R Documentation</td></tr></table>\n",
       "\n",
       "<h2 id='fwiGrid'>Fire Weather Index applied to multigrids</h2>\n",
       "\n",
       "<h3>Description</h3>\n",
       "\n",
       "<p>Implementation of the Canadian Fire Weather Index System for multigrids\n",
       "</p>\n",
       "\n",
       "\n",
       "<h3>Usage</h3>\n",
       "\n",
       "<pre><code class='language-R'>fwiGrid(multigrid, mask = NULL, what = \"FWI\", nlat.chunks = NULL,\n",
       "  restart.annual = TRUE, parallel = FALSE, ncores = NULL,\n",
       "  max.ncores = 16, ...)\n",
       "</code></pre>\n",
       "\n",
       "\n",
       "<h3>Arguments</h3>\n",
       "\n",
       "<table>\n",
       "<tr><td><code id=\"fwiGrid_:_multigrid\">multigrid</code></td>\n",
       "<td>\n",
       "<p>containing Tm (temperature records in deg. Celsius); H (relative humidity records in %);\n",
       "r (last 24-h accumulated precipitation in mm); W (wind velocity records in Km/h). See details.</p>\n",
       "</td></tr>\n",
       "<tr><td><code id=\"fwiGrid_:_mask\">mask</code></td>\n",
       "<td>\n",
       "<p>Optional. Binary grid (0 and 1, 0 for sea areas) with <code>dimensions</code> attribute <code>c(\"lat\", \"lon\")</code>.</p>\n",
       "</td></tr>\n",
       "<tr><td><code id=\"fwiGrid_:_what\">what</code></td>\n",
       "<td>\n",
       "<p>Character string. What component of the FWI system is computed?. Default to <code>\"FWI\"</code>.\n",
       "Note that unlike <code>fwi1D</code>, only one single component choice is possible in <code>fwiGrid</code>.\n",
       "See <code>fwi1D</code> for details and possible values.</p>\n",
       "</td></tr>\n",
       "<tr><td><code id=\"fwiGrid_:_nlat.chunks\">nlat.chunks</code></td>\n",
       "<td>\n",
       "<p>For an efficient memory usage, the computation of FWI can be split into \n",
       "latitudinal bands (chunks) sepparately. The number of chunks is controlled here. \n",
       "Default to <code>NULL</code> (i.e., no chunking applied).</p>\n",
       "</td></tr>\n",
       "<tr><td><code id=\"fwiGrid_:_restart.annual\">restart.annual</code></td>\n",
       "<td>\n",
       "<p>Logical. Should the calculation be restarted at the beginning of every year?\n",
       "If the grid encompasses just one season (e.g. JJA...), this is the recommended option. Default to <code>TRUE</code>.</p>\n",
       "</td></tr>\n",
       "<tr><td><code id=\"fwiGrid_:_parallel\">parallel</code></td>\n",
       "<td>\n",
       "<p>Logical. Should parallel execution be used?</p>\n",
       "</td></tr>\n",
       "<tr><td><code id=\"fwiGrid_:_ncores\">ncores</code></td>\n",
       "<td>\n",
       "<p>Integer number of cores used in parallel computation. Self-selected number of\n",
       "cores is used when <code>ncpus = NULL</code> (the default), or when <code>maxcores</code> exceeds the default <code>ncores</code> value.</p>\n",
       "</td></tr>\n",
       "<tr><td><code id=\"fwiGrid_:_max.ncores\">max.ncores</code></td>\n",
       "<td>\n",
       "<p>Integer. Upper bound for user-defined number of cores.</p>\n",
       "</td></tr>\n",
       "<tr><td><code id=\"fwiGrid_:_...\">...</code></td>\n",
       "<td>\n",
       "<p>Further arguments passed to <code>fwi1D</code>.</p>\n",
       "</td></tr>\n",
       "</table>\n",
       "\n",
       "\n",
       "<h3>Details</h3>\n",
       "\n",
       "<p><strong>Variable names</strong>\n",
       "</p>\n",
       "<p>The variables composing the input multigrid are expected to have standard names, as defined by the dictionary\n",
       "(their names are stored in the <code>multigrid$Variable$varName</code> component).\n",
       "These are: <code>\"tas\"</code> for temperature, <code>\"tp\"</code> for precipitation, <code>\"wss\"</code> for windspeed. In the case of relative humidity,\n",
       "either <code>\"hurs\"</code> or <code>\"hursmin\"</code> are accepted, the latter in case of FWI calculations according to the &ldquo;proxy&rdquo; version\n",
       "described in Bedia <em>et al</em> 2014.\n",
       "</p>\n",
       "<p>Note that the order of the variables within the multigrid is not relevant. These are indexed by variable names.\n",
       "</p>\n",
       "<p><strong>Landmask definition</strong>\n",
       "</p>\n",
       "<p>The use of a landsmask is highly recommended when using RCM/GCM data becasue (i) there is no point in calculating\n",
       "FWI over sea areas and (ii) for computational efficiency, as sea gridboxes will be skipped before calculations.\n",
       "</p>\n",
       "<p>The landmask must be a grid spatially consistent with the input multigrid. You can use \n",
       "<code>interpGrid</code> in combination with the <code>getGrid</code> method to ensure this condition is fulfilled.  . Its <code>data</code> component can be either a 2D or 3D array with the <code>dimensions</code> \n",
       "attribute <code>c(\"lat\",\"lon\")</code> or <code>c(\"time\",\"lat\",\"lon\")</code> respectively. In the latter case, the length of the time \n",
       "dimension should be 1. Note that values of 0 correspond to sea areas (thus discarded for FWI calculation), being land areas any other \n",
       "values different from 0 (tipically 1 or 100, corresponding to the land/sea area fraction).   \n",
       "</p>\n",
       "<p><strong>Latitudinal chunking</strong>\n",
       "</p>\n",
       "<p>Splitting the calculation in latitudinal chunks is highly advisable, and absolutely necessary when\n",
       "considering large spatial domains, otherwise running out of memory during the computation. The number\n",
       "of latitudinal chunks need to be estimated on a case-by-case basis, but in general there are no restrictions in the\n",
       "number of chunks that can be used, as long as it does not exceed the number of actual latitudes \n",
       "in the model grid.\n",
       "</p>\n",
       "\n",
       "\n",
       "<h3>Value</h3>\n",
       "\n",
       "<p>A grid corresponding to the variable defined in argument <code>what</code>.\n",
       "</p>\n",
       "\n",
       "\n",
       "<h3>Parallel Processing</h3>\n",
       "\n",
       "<p>Parallel processing is enabled using the <span class=\"pkg\">parallel</span> package. \n",
       "Parallelization is undertaken by a FORK-type parallel socket cluster formed by <code>ncores</code>.\n",
       "If <code>ncores</code> is not specified (default), <code>ncores</code> will be one less than the autodetected number of cores.\n",
       "The maximum number of cores used for parallel processing can be set with the <code>max.ncores</code> argument, \n",
       "although this will be reset to the auto-detected number of cores minus 1 if this number is exceeded. Note that not all \n",
       "code, but just some critical loops within the function are parallelized.\n",
       "</p>\n",
       "<p>In practice, parallelization does not always result in smaller execution times, due to the parallel overhead.\n",
       "However, parallel computing may potentially provide a significant speedup for the \n",
       "particular case of large multimember datasets or large grids.\n",
       "</p>\n",
       "<p>Parallel computing is currently not available for Windows machines.\n",
       "</p>\n",
       "\n",
       "\n",
       "<h3>Author(s)</h3>\n",
       "\n",
       "<p>J. Bedia \\&amp; M. Iturbide\n",
       "</p>\n",
       "\n",
       "\n",
       "<h3>References</h3>\n",
       "\n",
       "\n",
       "<ul>\n",
       "<li><p> Lawson, B.D. &amp; Armitage, O.B., 2008. Weather guide for the Canadian Forest Fire Danger Rating System. Northern Forestry Centre, Edmonton (Canada).\n",
       "</p>\n",
       "</li>\n",
       "<li><p> van Wagner, C.E., 1987. Development and structure of the Canadian Forest Fire Weather Index (Forestry Tech. Rep. No. 35). Canadian Forestry Service, Ottawa, Canada.\n",
       "</p>\n",
       "</li>\n",
       "<li><p> van Wagner, C.E., Pickett, T.L., 1985. Equations and FORTRAN program for the Canadian forest fire weather index system (Forestry Tech. Rep. No. 33). Canadian Forestry Service, Ottawa, Canada.\n",
       "</p>\n",
       "</li></ul>\n",
       "\n",
       "\n",
       "<hr /><div style=\"text-align: center;\">[Package <em>fireDanger</em> version 1.1.0 ]</div>\n",
       "</div>"
      ],
      "text/latex": [
       "\\inputencoding{utf8}\n",
       "\\HeaderA{fwiGrid}{Fire Weather Index applied to multigrids}{fwiGrid}\n",
       "%\n",
       "\\begin{Description}\n",
       "Implementation of the Canadian Fire Weather Index System for multigrids\n",
       "\\end{Description}\n",
       "%\n",
       "\\begin{Usage}\n",
       "\\begin{verbatim}\n",
       "fwiGrid(multigrid, mask = NULL, what = \"FWI\", nlat.chunks = NULL,\n",
       "  restart.annual = TRUE, parallel = FALSE, ncores = NULL,\n",
       "  max.ncores = 16, ...)\n",
       "\\end{verbatim}\n",
       "\\end{Usage}\n",
       "%\n",
       "\\begin{Arguments}\n",
       "\\begin{ldescription}\n",
       "\\item[\\code{multigrid}] containing Tm (temperature records in deg. Celsius); H (relative humidity records in \\%);\n",
       "r (last 24-h accumulated precipitation in mm); W (wind velocity records in Km/h). See details.\n",
       "\n",
       "\\item[\\code{mask}] Optional. Binary grid (0 and 1, 0 for sea areas) with \\code{dimensions} attribute \\code{c(\"lat\", \"lon\")}.\n",
       "\n",
       "\\item[\\code{what}] Character string. What component of the FWI system is computed?. Default to \\code{\"FWI\"}.\n",
       "Note that unlike \\code{\\LinkA{fwi1D}{fwi1D}}, only one single component choice is possible in \\code{fwiGrid}.\n",
       "See \\code{\\LinkA{fwi1D}{fwi1D}} for details and possible values.\n",
       "\n",
       "\\item[\\code{nlat.chunks}] For an efficient memory usage, the computation of FWI can be split into \n",
       "latitudinal bands (chunks) sepparately. The number of chunks is controlled here. \n",
       "Default to \\code{NULL} (i.e., no chunking applied).\n",
       "\n",
       "\\item[\\code{restart.annual}] Logical. Should the calculation be restarted at the beginning of every year?\n",
       "If the grid encompasses just one season (e.g. JJA...), this is the recommended option. Default to \\code{TRUE}.\n",
       "\n",
       "\\item[\\code{parallel}] Logical. Should parallel execution be used?\n",
       "\n",
       "\\item[\\code{ncores}] Integer number of cores used in parallel computation. Self-selected number of\n",
       "cores is used when \\code{ncpus = NULL} (the default), or when \\code{maxcores} exceeds the default \\code{ncores} value.\n",
       "\n",
       "\\item[\\code{max.ncores}] Integer. Upper bound for user-defined number of cores.\n",
       "\n",
       "\\item[\\code{...}] Further arguments passed to \\code{\\LinkA{fwi1D}{fwi1D}}.\n",
       "\\end{ldescription}\n",
       "\\end{Arguments}\n",
       "%\n",
       "\\begin{Details}\n",
       "\\strong{Variable names}\n",
       "\n",
       "The variables composing the input multigrid are expected to have standard names, as defined by the dictionary\n",
       "(their names are stored in the \\code{multigrid\\$Variable\\$varName} component).\n",
       "These are: \\code{\"tas\"} for temperature, \\code{\"tp\"} for precipitation, \\code{\"wss\"} for windspeed. In the case of relative humidity,\n",
       "either \\code{\"hurs\"} or \\code{\"hursmin\"} are accepted, the latter in case of FWI calculations according to the ``proxy'' version\n",
       "described in Bedia \\emph{et al} 2014.\n",
       "\n",
       "Note that the order of the variables within the multigrid is not relevant. These are indexed by variable names.\n",
       "\n",
       "\\strong{Landmask definition}\n",
       "\n",
       "The use of a landsmask is highly recommended when using RCM/GCM data becasue (i) there is no point in calculating\n",
       "FWI over sea areas and (ii) for computational efficiency, as sea gridboxes will be skipped before calculations.\n",
       "\n",
       "The landmask must be a grid spatially consistent with the input multigrid. You can use \n",
       "\\code{\\LinkA{interpGrid}{interpGrid}} in combination with the \\code{getGrid} method to ensure this condition is fulfilled.  . Its \\code{data} component can be either a 2D or 3D array with the \\code{dimensions} \n",
       "attribute \\code{c(\"lat\",\"lon\")} or \\code{c(\"time\",\"lat\",\"lon\")} respectively. In the latter case, the length of the time \n",
       "dimension should be 1. Note that values of 0 correspond to sea areas (thus discarded for FWI calculation), being land areas any other \n",
       "values different from 0 (tipically 1 or 100, corresponding to the land/sea area fraction).   \n",
       "\n",
       "\\strong{Latitudinal chunking}\n",
       "\n",
       "Splitting the calculation in latitudinal chunks is highly advisable, and absolutely necessary when\n",
       "considering large spatial domains, otherwise running out of memory during the computation. The number\n",
       "of latitudinal chunks need to be estimated on a case-by-case basis, but in general there are no restrictions in the\n",
       "number of chunks that can be used, as long as it does not exceed the number of actual latitudes \n",
       "in the model grid.\n",
       "\\end{Details}\n",
       "%\n",
       "\\begin{Value}\n",
       "A grid corresponding to the variable defined in argument \\code{what}.\n",
       "\\end{Value}\n",
       "%\n",
       "\\begin{Section}{Parallel Processing}\n",
       "\n",
       "\n",
       "Parallel processing is enabled using the \\pkg{parallel} package. \n",
       "Parallelization is undertaken by a FORK-type parallel socket cluster formed by \\code{ncores}.\n",
       "If \\code{ncores} is not specified (default), \\code{ncores} will be one less than the autodetected number of cores.\n",
       "The maximum number of cores used for parallel processing can be set with the \\code{max.ncores} argument, \n",
       "although this will be reset to the auto-detected number of cores minus 1 if this number is exceeded. Note that not all \n",
       "code, but just some critical loops within the function are parallelized.\n",
       "\n",
       "In practice, parallelization does not always result in smaller execution times, due to the parallel overhead.\n",
       "However, parallel computing may potentially provide a significant speedup for the \n",
       "particular case of large multimember datasets or large grids.\n",
       "\n",
       "Parallel computing is currently not available for Windows machines.\n",
       "\\end{Section}\n",
       "%\n",
       "\\begin{Author}\n",
       "J. Bedia \\bsl{}\\& M. Iturbide\n",
       "\\end{Author}\n",
       "%\n",
       "\\begin{References}\n",
       "\\begin{itemize}\n",
       "\n",
       "\\item{} Lawson, B.D. \\& Armitage, O.B., 2008. Weather guide for the Canadian Forest Fire Danger Rating System. Northern Forestry Centre, Edmonton (Canada).\n",
       "\n",
       "\\item{} van Wagner, C.E., 1987. Development and structure of the Canadian Forest Fire Weather Index (Forestry Tech. Rep. No. 35). Canadian Forestry Service, Ottawa, Canada.\n",
       "\n",
       "\\item{} van Wagner, C.E., Pickett, T.L., 1985. Equations and FORTRAN program for the Canadian forest fire weather index system (Forestry Tech. Rep. No. 33). Canadian Forestry Service, Ottawa, Canada.\n",
       "\n",
       "\\end{itemize}\n",
       "\n",
       "\\end{References}"
      ],
      "text/plain": [
       "fwiGrid               package:fireDanger               R Documentation\n",
       "\n",
       "_\bF_\bi_\br_\be _\bW_\be_\ba_\bt_\bh_\be_\br _\bI_\bn_\bd_\be_\bx _\ba_\bp_\bp_\bl_\bi_\be_\bd _\bt_\bo _\bm_\bu_\bl_\bt_\bi_\bg_\br_\bi_\bd_\bs\n",
       "\n",
       "_\bD_\be_\bs_\bc_\br_\bi_\bp_\bt_\bi_\bo_\bn:\n",
       "\n",
       "     Implementation of the Canadian Fire Weather Index System for\n",
       "     multigrids\n",
       "\n",
       "_\bU_\bs_\ba_\bg_\be:\n",
       "\n",
       "     fwiGrid(multigrid, mask = NULL, what = \"FWI\", nlat.chunks = NULL,\n",
       "       restart.annual = TRUE, parallel = FALSE, ncores = NULL,\n",
       "       max.ncores = 16, ...)\n",
       "     \n",
       "_\bA_\br_\bg_\bu_\bm_\be_\bn_\bt_\bs:\n",
       "\n",
       "multigrid: containing Tm (temperature records in deg. Celsius); H\n",
       "          (relative humidity records in %); r (last 24-h accumulated\n",
       "          precipitation in mm); W (wind velocity records in Km/h). See\n",
       "          details.\n",
       "\n",
       "    mask: Optional. Binary grid (0 and 1, 0 for sea areas) with\n",
       "          ‘dimensions’ attribute ‘c(\"lat\", \"lon\")’.\n",
       "\n",
       "    what: Character string. What component of the FWI system is\n",
       "          computed?. Default to ‘\"FWI\"’. Note that unlike ‘fwi1D’, only\n",
       "          one single component choice is possible in ‘fwiGrid’.  See\n",
       "          ‘fwi1D’ for details and possible values.\n",
       "\n",
       "nlat.chunks: For an efficient memory usage, the computation of FWI can\n",
       "          be split into latitudinal bands (chunks) sepparately. The\n",
       "          number of chunks is controlled here.  Default to ‘NULL’\n",
       "          (i.e., no chunking applied).\n",
       "\n",
       "restart.annual: Logical. Should the calculation be restarted at the\n",
       "          beginning of every year? If the grid encompasses just one\n",
       "          season (e.g. JJA...), this is the recommended option. Default\n",
       "          to ‘TRUE’.\n",
       "\n",
       "parallel: Logical. Should parallel execution be used?\n",
       "\n",
       "  ncores: Integer number of cores used in parallel computation.\n",
       "          Self-selected number of cores is used when ‘ncpus = NULL’\n",
       "          (the default), or when ‘maxcores’ exceeds the default\n",
       "          ‘ncores’ value.\n",
       "\n",
       "max.ncores: Integer. Upper bound for user-defined number of cores.\n",
       "\n",
       "     ...: Further arguments passed to ‘fwi1D’.\n",
       "\n",
       "_\bD_\be_\bt_\ba_\bi_\bl_\bs:\n",
       "\n",
       "     *Variable names*\n",
       "\n",
       "     The variables composing the input multigrid are expected to have\n",
       "     standard names, as defined by the dictionary (their names are\n",
       "     stored in the ‘multigrid$Variable$varName’ component). These are:\n",
       "     ‘\"tas\"’ for temperature, ‘\"tp\"’ for precipitation, ‘\"wss\"’ for\n",
       "     windspeed. In the case of relative humidity, either ‘\"hurs\"’ or\n",
       "     ‘\"hursmin\"’ are accepted, the latter in case of FWI calculations\n",
       "     according to the “proxy” version described in Bedia _et al_ 2014.\n",
       "\n",
       "     Note that the order of the variables within the multigrid is not\n",
       "     relevant. These are indexed by variable names.\n",
       "\n",
       "     *Landmask definition*\n",
       "\n",
       "     The use of a landsmask is highly recommended when using RCM/GCM\n",
       "     data becasue (i) there is no point in calculating FWI over sea\n",
       "     areas and (ii) for computational efficiency, as sea gridboxes will\n",
       "     be skipped before calculations.\n",
       "\n",
       "     The landmask must be a grid spatially consistent with the input\n",
       "     multigrid. You can use ‘interpGrid’ in combination with the\n",
       "     ‘getGrid’ method to ensure this condition is fulfilled.  . Its\n",
       "     ‘data’ component can be either a 2D or 3D array with the\n",
       "     ‘dimensions’ attribute ‘c(\"lat\",\"lon\")’ or ‘c(\"time\",\"lat\",\"lon\")’\n",
       "     respectively. In the latter case, the length of the time dimension\n",
       "     should be 1. Note that values of 0 correspond to sea areas (thus\n",
       "     discarded for FWI calculation), being land areas any other values\n",
       "     different from 0 (tipically 1 or 100, corresponding to the\n",
       "     land/sea area fraction).\n",
       "\n",
       "     *Latitudinal chunking*\n",
       "\n",
       "     Splitting the calculation in latitudinal chunks is highly\n",
       "     advisable, and absolutely necessary when considering large spatial\n",
       "     domains, otherwise running out of memory during the computation.\n",
       "     The number of latitudinal chunks need to be estimated on a\n",
       "     case-by-case basis, but in general there are no restrictions in\n",
       "     the number of chunks that can be used, as long as it does not\n",
       "     exceed the number of actual latitudes in the model grid.\n",
       "\n",
       "_\bV_\ba_\bl_\bu_\be:\n",
       "\n",
       "     A grid corresponding to the variable defined in argument ‘what’.\n",
       "\n",
       "_\bP_\ba_\br_\ba_\bl_\bl_\be_\bl _\bP_\br_\bo_\bc_\be_\bs_\bs_\bi_\bn_\bg:\n",
       "\n",
       "     Parallel processing is enabled using the ‘parallel’ package.\n",
       "     Parallelization is undertaken by a FORK-type parallel socket\n",
       "     cluster formed by ‘ncores’. If ‘ncores’ is not specified\n",
       "     (default), ‘ncores’ will be one less than the autodetected number\n",
       "     of cores. The maximum number of cores used for parallel processing\n",
       "     can be set with the ‘max.ncores’ argument, although this will be\n",
       "     reset to the auto-detected number of cores minus 1 if this number\n",
       "     is exceeded. Note that not all code, but just some critical loops\n",
       "     within the function are parallelized.\n",
       "\n",
       "     In practice, parallelization does not always result in smaller\n",
       "     execution times, due to the parallel overhead. However, parallel\n",
       "     computing may potentially provide a significant speedup for the\n",
       "     particular case of large multimember datasets or large grids.\n",
       "\n",
       "     Parallel computing is currently not available for Windows\n",
       "     machines.\n",
       "\n",
       "_\bA_\bu_\bt_\bh_\bo_\br(_\bs):\n",
       "\n",
       "     J. Bedia \\& M. Iturbide\n",
       "\n",
       "_\bR_\be_\bf_\be_\br_\be_\bn_\bc_\be_\bs:\n",
       "\n",
       "        • Lawson, B.D. & Armitage, O.B., 2008. Weather guide for the\n",
       "          Canadian Forest Fire Danger Rating System. Northern Forestry\n",
       "          Centre, Edmonton (Canada).\n",
       "\n",
       "        • van Wagner, C.E., 1987. Development and structure of the\n",
       "          Canadian Forest Fire Weather Index (Forestry Tech. Rep. No.\n",
       "          35). Canadian Forestry Service, Ottawa, Canada.\n",
       "\n",
       "        • van Wagner, C.E., Pickett, T.L., 1985. Equations and FORTRAN\n",
       "          program for the Canadian forest fire weather index system\n",
       "          (Forestry Tech. Rep. No. 33). Canadian Forestry Service,\n",
       "          Ottawa, Canada.\n"
      ]
     },
     "metadata": {},
     "output_type": "display_data"
    }
   ],
   "source": [
    "help(fwiGrid)"
   ]
  },
  {
   "cell_type": "markdown",
   "id": "f8376e85-89af-44ea-acb3-0a5d66d45830",
   "metadata": {},
   "source": [
    "La carga de datos se realiza mediante la función `loadGridData` especificando, como fuente de datos, la ruta de un archivo NetCDF o de un catálogo NcML. En nuestro caso, esa ruta es precisamente lo que encapsula el objeto `endpoint` que hemos definido anteriormente.\n",
    "\n",
    "También es necesario especificar el parámetro `var`, que en este ejemplo se establece como `t2m` (temperatura superficial). Ten en cuenta que `loadGridData` permite establecer parámetros adicionales. Por ejemplo, podríamos utilizar los parámetros `lonLim` y `latLim` para cargar únicamente el subconjunto de datos correspondiente a una región más pequeña. Si no se emplean estos parámetros se carga el dominio completo (como en este caso). Otro parámetro útil es `season`, para cargar datos de meses específicos (más tarde lo utilizaremos para sacar el periodo JJAS, que es la temporada alta de incendios en la Península Ibérica). En el parámetro `years`, especificamos el periodo deseado (en este caso, 2016-2020). Ejecuta `help(loadGridData)` para consultar otros parámetros disponibles.  La carga de datos puede tardar segundos o minutos dependiendo de la cantidad de datos que corresponda a la petición que hagamos."
   ]
  },
  {
   "cell_type": "code",
   "execution_count": 10,
   "id": "468f0180-74fd-4f1d-9ecd-648e7c29c8a8",
   "metadata": {},
   "outputs": [
    {
     "name": "stderr",
     "output_type": "stream",
     "text": [
      "[2025-01-17 18:46:17.600335] Opening dataset...\n",
      "\n",
      "[2025-01-17 18:46:18.615923] The dataset was successfuly opened\n",
      "\n",
      "[2025-01-17 18:46:18.62302] Defining geo-location parameters\n",
      "\n",
      "[2025-01-17 18:46:18.774258] Defining time selection parameters\n",
      "\n",
      "[2025-01-17 18:46:18.996181] Retrieving data subset ...\n",
      "\n",
      "[2025-01-17 18:46:37.884212] Done\n",
      "\n"
     ]
    }
   ],
   "source": [
    "tas <- loadGridData(dataset = endpoint,\n",
    "             var = \"t2m\",\n",
    "             season = 1:12,\n",
    "             years = 2016:2020)"
   ]
  },
  {
   "cell_type": "markdown",
   "id": "fafc5b4c-2ec3-4683-b773-c2cff80858dd",
   "metadata": {},
   "source": [
    "El objeto resultante (aquí llamado `tas`) es un *grid* de *climate4R*, que consiste en un objeto de tipo `list` con los siguientes slots: `Variable`, `Data`, `xyCoordinates`, `Dates` (y `Members` cuando se tratan de datos varios modelos, como ocurre con las proyecciones climáticas). Podemos comprobar la estructura, nombre de variable, unidades, etc. con la función `str`."
   ]
  },
  {
   "cell_type": "code",
   "execution_count": 11,
   "id": "6f6f3698-bdd2-4137-9f87-bd687f30c2c6",
   "metadata": {},
   "outputs": [
    {
     "name": "stdout",
     "output_type": "stream",
     "text": [
      "List of 4\n",
      " $ Variable:List of 2\n",
      "  ..$ varName: chr \"t2m\"\n",
      "  ..$ level  : NULL\n",
      "  ..- attr(*, \"use_dictionary\")= logi FALSE\n",
      "  ..- attr(*, \"description\")= chr \"2 metre temperature\"\n",
      "  ..- attr(*, \"units\")= chr \"K\"\n",
      "  ..- attr(*, \"longname\")= chr \"t2m\"\n",
      "  ..- attr(*, \"daily_agg_cellfun\")= chr \"none\"\n",
      "  ..- attr(*, \"monthly_agg_cellfun\")= chr \"none\"\n",
      "  ..- attr(*, \"verification_time\")= chr \"none\"\n",
      " $ Data    : num [1:1827, 1:101, 1:161] NaN NaN NaN NaN NaN NaN NaN NaN NaN NaN ...\n",
      "  ..- attr(*, \"dimensions\")= chr [1:3] \"time\" \"lat\" \"lon\"\n",
      " $ xyCoords:List of 2\n",
      "  ..$ x: num [1:161] -10 -9.9 -9.8 -9.7 -9.6 ...\n",
      "  ..$ y: num [1:101] 34 34.1 34.2 34.3 34.4 ...\n",
      "  ..- attr(*, \"projection\")= chr \"LatLonProjection\"\n",
      "  ..- attr(*, \"resX\")= num 0.1\n",
      "  ..- attr(*, \"resY\")= num 0.1\n",
      " $ Dates   :List of 2\n",
      "  ..$ start: chr [1:1827] \"2016-01-01 00:00:00 GMT\" \"2016-01-02 00:00:00 GMT\" \"2016-01-03 00:00:00 GMT\" \"2016-01-04 00:00:00 GMT\" ...\n",
      "  ..$ end  : chr [1:1827] \"2016-01-01 00:00:00 GMT\" \"2016-01-02 00:00:00 GMT\" \"2016-01-03 00:00:00 GMT\" \"2016-01-04 00:00:00 GMT\" ...\n",
      " - attr(*, \"dataset\")= chr \"https://data.meteo.unican.es/thredds/dodsC/PTI-clima/reanalysis/ERA5-Land_Iberia_day.ncml\"\n",
      " - attr(*, \"R_package_desc\")= chr \"loadeR-v1.8.1\"\n",
      " - attr(*, \"R_package_URL\")= chr \"https://github.com/SantanderMetGroup/loadeR\"\n",
      " - attr(*, \"R_package_ref\")= chr \"https://doi.org/10.1016/j.envsoft.2018.09.009\"\n"
     ]
    }
   ],
   "source": [
    "str(tas)"
   ]
  },
  {
   "cell_type": "markdown",
   "id": "46651af7-5b93-4082-80cb-f0f8944b8754",
   "metadata": {},
   "source": [
    "Repetimos el proceso con el resto de variables."
   ]
  },
  {
   "cell_type": "code",
   "execution_count": 12,
   "id": "8e85f6a6-5485-458e-9ae2-6904052bba31",
   "metadata": {},
   "outputs": [
    {
     "name": "stderr",
     "output_type": "stream",
     "text": [
      "[2025-01-17 18:46:38.131564] Opening dataset...\n",
      "\n",
      "[2025-01-17 18:46:39.159117] The dataset was successfuly opened\n",
      "\n",
      "[2025-01-17 18:46:39.164233] Defining geo-location parameters\n",
      "\n",
      "[2025-01-17 18:46:39.231235] Defining time selection parameters\n",
      "\n",
      "[2025-01-17 18:46:39.410236] Retrieving data subset ...\n",
      "\n",
      "[2025-01-17 18:46:57.188912] Done\n",
      "\n"
     ]
    }
   ],
   "source": [
    "tp <- loadGridData(dataset = endpoint,\n",
    "             var = \"tp\",\n",
    "             season = 1:12,\n",
    "             years = 2016:2020)"
   ]
  },
  {
   "cell_type": "code",
   "execution_count": 13,
   "id": "643fb9aa-2a8e-4abd-b235-d3e43a94d14c",
   "metadata": {},
   "outputs": [
    {
     "name": "stderr",
     "output_type": "stream",
     "text": [
      "[2025-01-17 18:46:57.411333] Opening dataset...\n",
      "\n",
      "[2025-01-17 18:46:58.438324] The dataset was successfuly opened\n",
      "\n",
      "[2025-01-17 18:46:58.443109] Defining geo-location parameters\n",
      "\n",
      "[2025-01-17 18:46:58.508332] Defining time selection parameters\n",
      "\n",
      "[2025-01-17 18:46:58.666647] Retrieving data subset ...\n",
      "\n",
      "[2025-01-17 18:47:15.521144] Done\n",
      "\n"
     ]
    }
   ],
   "source": [
    "sfcwind <- loadGridData(dataset = endpoint,\n",
    "             var = \"sfcwind\",\n",
    "             season = 1:12,\n",
    "             years = 2016:2020)"
   ]
  },
  {
   "cell_type": "code",
   "execution_count": 14,
   "id": "14b78420-cb65-4fce-a1c2-f408ba8af022",
   "metadata": {},
   "outputs": [
    {
     "name": "stderr",
     "output_type": "stream",
     "text": [
      "[2025-01-17 18:47:15.744039] Opening dataset...\n",
      "\n",
      "[2025-01-17 18:47:16.779944] The dataset was successfuly opened\n",
      "\n",
      "[2025-01-17 18:47:16.784913] Defining geo-location parameters\n",
      "\n",
      "[2025-01-17 18:47:16.851413] Defining time selection parameters\n",
      "\n",
      "[2025-01-17 18:47:17.008102] Retrieving data subset ...\n",
      "\n",
      "[2025-01-17 18:47:33.083009] Done\n",
      "\n"
     ]
    }
   ],
   "source": [
    "d2m <- loadGridData(dataset = endpoint,\n",
    "             var = \"d2m\",\n",
    "             season = 1:12,\n",
    "             years = 2016:2020)"
   ]
  },
  {
   "cell_type": "markdown",
   "id": "f58f111b-c32e-487c-882f-a3ee4bc384e8",
   "metadata": {},
   "source": [
    "Calculamos la aproximación de la humedad relativa mediante la temperatura y el punto de rocío utilizando la función mencionada previamente."
   ]
  },
  {
   "cell_type": "code",
   "execution_count": 15,
   "id": "217626dc-ba24-4f9c-bff6-efcf87d0dc9f",
   "metadata": {},
   "outputs": [
    {
     "name": "stderr",
     "output_type": "stream",
     "text": [
      "[2025-01-17 18:47:37.964437] Converting temperature units ...\n",
      "\n",
      "[2025-01-17 18:47:43.846617] Converting temperature units ...\n",
      "\n",
      "[2025-01-17 18:47:49.708886] Deriving relative humidity ...\n",
      "\n",
      "[2025-01-17 18:47:56.704664] Done.\n",
      "\n"
     ]
    }
   ],
   "source": [
    "hurs <- tdps2hurs(tdps = d2m, tas = tas, negatives.to.zero = TRUE)"
   ]
  },
  {
   "cell_type": "markdown",
   "id": "d076aea2-e815-4c64-a62b-fcc8fc7d4481",
   "metadata": {},
   "source": [
    "Por último, observamos las unidades de las variables que se involucran en el calculo del FWI. Como se remarca en la ayuda de la función `fwiGrid`, las variables que se introducen como input deben estar en unas unidades específicas. Mediante el atributo `units` disponible en `Variables` podemos acceder a esta información."
   ]
  },
  {
   "cell_type": "code",
   "execution_count": 16,
   "id": "3f418260-a180-444d-9976-0d8d3a0b2b8b",
   "metadata": {},
   "outputs": [
    {
     "name": "stdout",
     "output_type": "stream",
     "text": [
      "$units\n",
      "[1] \"K\"\n",
      "\n"
     ]
    }
   ],
   "source": [
    "print(attributes(tas[['Variable']])['units'])"
   ]
  },
  {
   "cell_type": "code",
   "execution_count": 17,
   "id": "fd3ec96b-2ba9-4a1b-a308-28509fb6cb6f",
   "metadata": {},
   "outputs": [
    {
     "name": "stdout",
     "output_type": "stream",
     "text": [
      "$units\n",
      "[1] \"m s**-1\"\n",
      "\n"
     ]
    }
   ],
   "source": [
    "print(attributes(sfcwind[['Variable']])['units'])"
   ]
  },
  {
   "cell_type": "code",
   "execution_count": 18,
   "id": "c5fe90c3-e174-47d2-8a9a-bb5dbb43b010",
   "metadata": {},
   "outputs": [
    {
     "name": "stdout",
     "output_type": "stream",
     "text": [
      "$units\n",
      "[1] \"m\"\n",
      "\n"
     ]
    }
   ],
   "source": [
    "print(attributes(tp[['Variable']])['units'])"
   ]
  },
  {
   "cell_type": "markdown",
   "id": "7eddfb47-98ab-425f-8ba5-a654f9cfe99b",
   "metadata": {},
   "source": [
    "Hacemos los cambios en las unidades de las variables involucradas. Para ello manipulamos el elemento `$Data` que recoge los valores numéricos del grid de la variable. Finalmente cambiamos el nombre de la variable para que concuerden con los nombres que exige la función `fwiGrid`. Para ello manipulamos el elemento `$Variable$varName` así como el atributo `units`."
   ]
  },
  {
   "cell_type": "code",
   "execution_count": 19,
   "id": "cb913d05-c8df-41d4-add4-bce6ae658712",
   "metadata": {},
   "outputs": [],
   "source": [
    "#K to C\n",
    "tas$Data <- tas$Data -273.15\n",
    "tas$Variable$varName <- \"tas\"\n",
    "attr(tas$Variable, \"units\") <- \"C\"\n",
    "\n",
    "#m to mm\n",
    "tp$Data <- tp$Data*1000\n",
    "attr(tp$Variable, \"units\") <- \"mm\"\n",
    "\n",
    "#m/s to km/h\n",
    "sfcwind$Data <- sfcwind$Data*3.6\n",
    "sfcwind$Variable$varName <- \"wss\"\n",
    "attr(sfcwind$Variable, \"units\") <- \"km.h-1\""
   ]
  },
  {
   "cell_type": "markdown",
   "id": "520d9ec4-442a-4ea6-9bfc-e7529bff59ee",
   "metadata": {},
   "source": [
    "### 2.3 Cálculo del FWI <a class=\"anchor\" id=\"2.3-bullet\"></a>\n",
    "\n",
    "Finalmente, creamos el multigrid con las variables utilizando `makeMultiGrid` y el objeto que retorna se lo pasamos como input a `fwiGrid`. En la función añadimos los argumentos `what = \"FWI\"` para señalar que índice queremos calcular y `restart.annual = FALSE` para evitar que el FWI se inicialice cada año."
   ]
  },
  {
   "cell_type": "code",
   "execution_count": 20,
   "id": "48f96e37-2431-4da9-9f65-ddd93fdf2941",
   "metadata": {},
   "outputs": [
    {
     "data": {
      "text/html": [
       "<table class=\"dataframe\">\n",
       "<caption>A matrix: 2 × 6 of type dbl</caption>\n",
       "<thead>\n",
       "\t<tr><th></th><th scope=col>used</th><th scope=col>(Mb)</th><th scope=col>gc trigger</th><th scope=col>(Mb)</th><th scope=col>max used</th><th scope=col>(Mb)</th></tr>\n",
       "</thead>\n",
       "<tbody>\n",
       "\t<tr><th scope=row>Ncells</th><td>  1543897</td><td>  82.5</td><td>  2460437</td><td> 131.5</td><td>  2460437</td><td> 131.5</td></tr>\n",
       "\t<tr><th scope=row>Vcells</th><td>151367638</td><td>1154.9</td><td>603316044</td><td>4603.0</td><td>745637778</td><td>5688.8</td></tr>\n",
       "</tbody>\n",
       "</table>\n"
      ],
      "text/latex": [
       "A matrix: 2 × 6 of type dbl\n",
       "\\begin{tabular}{r|llllll}\n",
       "  & used & (Mb) & gc trigger & (Mb) & max used & (Mb)\\\\\n",
       "\\hline\n",
       "\tNcells &   1543897 &   82.5 &   2460437 &  131.5 &   2460437 &  131.5\\\\\n",
       "\tVcells & 151367638 & 1154.9 & 603316044 & 4603.0 & 745637778 & 5688.8\\\\\n",
       "\\end{tabular}\n"
      ],
      "text/markdown": [
       "\n",
       "A matrix: 2 × 6 of type dbl\n",
       "\n",
       "| <!--/--> | used | (Mb) | gc trigger | (Mb) | max used | (Mb) |\n",
       "|---|---|---|---|---|---|---|\n",
       "| Ncells |   1543897 |   82.5 |   2460437 |  131.5 |   2460437 |  131.5 |\n",
       "| Vcells | 151367638 | 1154.9 | 603316044 | 4603.0 | 745637778 | 5688.8 |\n",
       "\n"
      ],
      "text/plain": [
       "       used      (Mb)   gc trigger (Mb)   max used  (Mb)  \n",
       "Ncells   1543897   82.5   2460437   131.5   2460437  131.5\n",
       "Vcells 151367638 1154.9 603316044  4603.0 745637778 5688.8"
      ]
     },
     "metadata": {},
     "output_type": "display_data"
    },
    {
     "name": "stderr",
     "output_type": "stream",
     "text": [
      "[2025-01-17 18:48:19.807413] Calculating FWI\n",
      "\n",
      "[2025-01-17 18:48:33.774171] Processing chunk 1 out of 1...\n",
      "\n",
      "[2025-01-17 18:50:20.240197] Done.\n",
      "\n"
     ]
    }
   ],
   "source": [
    "#creamos el multigrid\n",
    "mg <- makeMultiGrid(tas, tp, sfcwind, hurs)\n",
    "\n",
    "#eliminamos las variables para liberar espacio\n",
    "rm(tas)\n",
    "rm(tp)\n",
    "rm(sfcwind)\n",
    "rm(hurs)\n",
    "gc()\n",
    "\n",
    "#calculamos el FWI\n",
    "fwi <- fwiGrid(mg, what = \"FWI\", restart.annual = FALSE)"
   ]
  },
  {
   "cell_type": "markdown",
   "id": "e06c2857-cc09-4392-b81e-49b970ba6752",
   "metadata": {},
   "source": [
    "### 2.4 Visualizaciones espaciales y temporales <a class=\"anchor\" id=\"2.4-bullet\"></a>\n",
    "\n",
    "Mediante la función `temporalPlot` del paquete `visualizeR` podemos mostrar la serie temporal diaria promedia de la región. En el gráfico resultante se observan los ciclos anuales del FWI en los periodos de riesgo alto (Junio-Septiembre)."
   ]
  },
  {
   "cell_type": "code",
   "execution_count": 21,
   "id": "5ce86e61-07fa-4bdb-b500-7b037945b4eb",
   "metadata": {},
   "outputs": [
    {
     "name": "stderr",
     "output_type": "stream",
     "text": [
      "pad applied on the interval: day\n",
      "\n"
     ]
    },
    {
     "data": {
      "image/png": "[encoded data removed]",
      "text/plain": [
       "plot without title"
      ]
     },
     "metadata": {
      "image/png": {
       "height": 420,
       "width": 420
      }
     },
     "output_type": "display_data"
    }
   ],
   "source": [
    "temporalPlot(\"Fire Weather Index\" = fwi)"
   ]
  },
  {
   "cell_type": "markdown",
   "id": "b10dbc2a-a2f9-4b5d-b7b5-cb20c0d139c9",
   "metadata": {},
   "source": [
    "Para la visualización espacial, vamos a mostrar la climatología de los meses desde Junio hasta Septiembre, donde el índice alcanza sus cotas máximas. Para solamente considerar estos meses usamos el argumento `season = 6:9` de la función `subsetGrid`, guardando el resultado en un nuevo objeto `fwi.jjas`. A través de `spatialPlot` pintamos la climatología. Para ello, primero calculamos la climatología con la función `climatology` del paquete `transformeR`. Esta función agrega la dimensión temporal de los datos utilizando la media como función por defecto, sin embargo, podríamos utilizar cualquier otra función a través del parámetro `clim.fun` (p.ej. `climatology(fwi.jjas, clim.fun = list(\"max\", na.rm = TRUE)`). Posteriormente, utilizamos la función `spatialPlot` del paquete `visualizeR` (ejecuta `help(spatialPlot)` para consultar diferentes parámetros de representación gráfica)."
   ]
  },
  {
   "cell_type": "code",
   "execution_count": 22,
   "id": "a8f3ee18-ace7-4562-80d0-1c0db6d8a01f",
   "metadata": {},
   "outputs": [],
   "source": [
    "#creamos la paleta de colores\n",
    "fwi.colors <- colorRampPalette(c(rev(brewer.pal(9, \"YlGnBu\")[3:5]), \n",
    "                                 brewer.pal(9, \"YlOrRd\")[3:9]))\n",
    "\n",
    "fwi.jjas <- subsetGrid(fwi, season = 6:9)"
   ]
  },
  {
   "cell_type": "code",
   "execution_count": 23,
   "id": "ed13864b-1b75-44a8-8427-013b3c1db122",
   "metadata": {},
   "outputs": [
    {
     "name": "stderr",
     "output_type": "stream",
     "text": [
      "[2025-01-17 18:50:32.366182] - Computing climatology...\n",
      "\n",
      "[2025-01-17 18:50:32.71549] - Done.\n",
      "\n"
     ]
    },
    {
     "data": {
      "image/png": "[encoded data removed]",
      "text/plain": [
       "plot without title"
      ]
     },
     "metadata": {
      "image/png": {
       "height": 420,
       "width": 420
      }
     },
     "output_type": "display_data"
    }
   ],
   "source": [
    "#dibujamos la climatología\n",
    "spatialPlot(climatology(fwi.jjas), \n",
    "            backdrop.theme = 'countries', \n",
    "            col.regions = fwi.colors,\n",
    "            main = \"Fire Weather Index JJAS Climatology for 2016-2020\",\n",
    "            set.min = 0, at = seq(0,70,2))"
   ]
  },
  {
   "cell_type": "markdown",
   "id": "1cb61a9b-1ca9-4fea-90e3-18939b0d7d3c",
   "metadata": {},
   "source": [
    "El **framework *climate4R*** ofrece muchas otras **funcionalidades de operaciones espaciales y temporales**, como **interpolación, subsetting o intersección espacial**. Además, brinda funcionalidades para la **corrección de sesgo y downscaling**. Consulta [Iturbide et al., 2019](https://www.sciencedirect.com/science/article/pii/S1364815218303049?via%3Dihub) y el repositorio de [github de climate4R](https://github.com/SantanderMetGroup/climate4R) para más información."
   ]
  },
  {
   "cell_type": "markdown",
   "id": "40f6eae5-690c-4e45-91f8-4b75b6357e59",
   "metadata": {},
   "source": [
    "## 3 Session Info <a class=\"anchor\" id=\"3-bullet\"></a>\n"
   ]
  },
  {
   "cell_type": "code",
   "execution_count": 24,
   "id": "d979a140-8fb7-4937-a66f-62018b8bfc4c",
   "metadata": {},
   "outputs": [
    {
     "data": {
      "text/plain": [
       "R version 4.3.3 (2024-02-29)\n",
       "Platform: x86_64-conda-linux-gnu (64-bit)\n",
       "Running under: Ubuntu 22.04.3 LTS\n",
       "\n",
       "Matrix products: default\n",
       "BLAS/LAPACK: /opt/conda/envs/climate4r/lib/libopenblasp-r0.3.27.so;  LAPACK version 3.12.0\n",
       "\n",
       "locale:\n",
       " [1] LC_CTYPE=en_US.UTF-8          LC_NUMERIC=C                 \n",
       " [3] LC_TIME=en_US.UTF-8           LC_COLLATE=en_US.UTF-8       \n",
       " [5] LC_MONETARY=en_US.UTF-8       LC_MESSAGES=en_US.UTF-8      \n",
       " [7] LC_PAPER=en_US.UTF-8          LC_NAME=en_US.UTF-8          \n",
       " [9] LC_ADDRESS=en_US.UTF-8        LC_TELEPHONE=en_US.UTF-8     \n",
       "[11] LC_MEASUREMENT=en_US.UTF-8    LC_IDENTIFICATION=en_US.UTF-8\n",
       "\n",
       "time zone: Etc/UTC\n",
       "tzcode source: system (glibc)\n",
       "\n",
       "attached base packages:\n",
       "[1] stats     graphics  grDevices utils     datasets  methods   base     \n",
       "\n",
       "other attached packages:\n",
       " [1] convertR_0.2.1      udunits2_0.13.2.1   RColorBrewer_1.1-3 \n",
       " [4] visualizeR_1.6.4    fireDanger_1.1.0    transformeR_2.2.2  \n",
       " [7] loadeR_1.8.1        climate4R.UDG_0.2.6 loadeR.java_1.1.1  \n",
       "[10] rJava_1.0-11       \n",
       "\n",
       "loaded via a namespace (and not attached):\n",
       " [1] dotCall64_1.1-1         spam_2.10-0             latticeExtra_0.6-30    \n",
       " [4] lattice_0.22-6          vctrs_0.6.5             mapplots_1.5.2         \n",
       " [7] tools_4.3.3             bitops_1.0-8            generics_0.1.3         \n",
       "[10] parallel_4.3.3          tibble_3.2.1            proxy_0.4-27           \n",
       "[13] fansi_1.0.6             SpecsVerification_0.5-3 pkgconfig_2.0.3        \n",
       "[16] data.table_1.15.4       uuid_1.2-1              lifecycle_1.0.4        \n",
       "[19] compiler_4.3.3          kohonen_3.0.12          deldir_2.0-4           \n",
       "[22] fields_16.2             munsell_0.5.1           akima_0.6-3.4          \n",
       "[25] repr_1.1.7              htmltools_0.5.8.1       maps_3.4.2             \n",
       "[28] RCurl_1.98-1.16         pillar_1.9.0            crayon_1.5.3           \n",
       "[31] MASS_7.3-60.0.1         boot_1.3-31             abind_1.4-5            \n",
       "[34] vioplot_0.5.0           padr_0.6.2              verification_1.42      \n",
       "[37] tidyselect_1.2.1        digest_0.6.37           dplyr_1.1.4            \n",
       "[40] fastmap_1.2.0           grid_4.3.3              colorspace_2.1-1       \n",
       "[43] cli_3.6.3               magrittr_2.0.3          base64enc_0.1-3        \n",
       "[46] utf8_1.2.4              sm_2.2-6.0              IRdisplay_1.1          \n",
       "[49] withr_3.0.1             scales_1.3.0            sp_2.1-4               \n",
       "[52] IRkernel_1.3.2          jpeg_0.1-10             interp_1.1-6           \n",
       "[55] pbdZMQ_0.3-13           RcppEigen_0.3.4.0.2     zoo_1.8-12             \n",
       "[58] png_0.1-8               pbapply_1.7-2           evaluate_1.0.0         \n",
       "[61] dtw_1.23-1              viridisLite_0.4.2       rlang_1.1.4            \n",
       "[64] Rcpp_1.0.13             glue_1.7.0              easyVerification_0.4.5 \n",
       "[67] CircStats_0.2-6         jsonlite_1.8.9          R6_2.5.1               "
      ]
     },
     "metadata": {},
     "output_type": "display_data"
    }
   ],
   "source": [
    "sessionInfo()"
   ]
  }
 ],
 "metadata": {
  "kernelspec": {
   "display_name": "climate4R",
   "language": "R",
   "name": "climate4r"
  },
  "language_info": {
   "codemirror_mode": "r",
   "file_extension": ".r",
   "mimetype": "text/x-r-source",
   "name": "R",
   "pygments_lexer": "r",
   "version": "4.3.3"
  }
 },
 "nbformat": 4,
 "nbformat_minor": 5
}
