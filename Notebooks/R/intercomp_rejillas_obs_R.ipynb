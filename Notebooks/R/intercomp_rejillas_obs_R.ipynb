{
 "cells": [
  {
   "cell_type": "markdown",
   "id": "914c56cf-9944-4e6c-8e7e-cc8f85ca1ee9",
   "metadata": {},
   "source": [
    "# PTI-Clima Notebooks  <img src=\"https://www.r-project.org/logo/Rlogo.png\" alt=\"Description\" width=\"60\" height=\"40\">\n",
    "\n",
    "***\n",
    "\n",
    "> Este cuaderno o notebook muestra las operaciones básicas para comenzar a trabajar con los conjuntos de datos de la PTI-Clima que se incluyen en el [almacén de datos](https://pti.climate.ifca.es/data). Este trabajo está licenciado bajo una [Licencia Creative Commons Atribución 4.0 Internacional](http://creativecommons.org/licenses/by/4.0).\n",
    ">\n",
    "> ![Licencia de Creative Commons](https://i.creativecommons.org/l/by/4.0/88x31.png)\n"
   ]
  },
  {
   "cell_type": "markdown",
   "id": "eef901b2-fa1c-46cf-ae70-7643d7830db1",
   "metadata": {},
   "source": [
    "## Intercomparación de rejillas observacionales\n",
    "\n",
    "**M. Iturbide** (Instituto de Física de Cantabria, CSIC-Universidad de Cantabria, Santander, Spain).\n",
    "\n",
    "**¡Bienvenidos al notebook de *Intercomparación de rejillas observacionales* de la Plataforma Virtual de Cálculo de la PTI-Clima!**  \n",
    "Esta guía está diseñada para ayudarte a sacar el máximo provecho de los numerosos recursos disponibles en el [**Almacén de Datos de la PTI-Clima**](https://pti.climate.ifca.es/data). A través de esta plataforma, podrás realizar investigaciones y **análisis climáticos de relevancia**, ya que ofrece **acceso transparente a una amplia gama de materiales y datos** subyacentes a los **servicios climáticos desarrollados en la PTI-Clima**, fomentando su **reutilización** y posibilitando la **reproducibilidad** de los productos generados.\n",
    "\n",
    "En el directorio principal encontrarás el notebook de [**primeros_pasos_R.ipynb**](../../primeros_pasos_R.ipynb) que describe el **objetivo general y la motivación** detrás de esta plataforma virtual, aclarando su propósito y relevancia en el ámbito de la investigación climática. Además, describe el material disponible, brindándote una visión de los diversos conjuntos de datos y recursos a tu disposición para el análisis climático. Finalmente, ilustra **los pasos fundamentales para comenzar a trabajar de manera efectiva con datos climáticos**. \n",
    "\n",
    "Esta plataforma cuenta con **software preinstalado y listo para usar** para gestionar y realizar operaciones con datos climáticos. Este software consiste en un conjunto de **paquetes de R**, conocido como el **framework `climate4R`** (Iturbide et al., 2019. DOI: [10.1016/j.envsoft.2018.09.009](https://www.sciencedirect.com/science/article/pii/S1364815218303049?via%3Dihub)), que puede seleccionarse desde el menú de kernel. Para más información, visita [el repositorio de climate4R en GitHub](https://github.com/SantanderMetGroup/climate4R).\n",
    "\n",
    "<img src=\"https://raw.githubusercontent.com/SantanderMetGroup/climate4R/refs/heads/devel/man/figures/climate4R_logo.svg\" alt=\"Description\" width=\"60\" height=\"40\">\n",
    "\n",
    "***climate4R*** ofrece más funcionalidades de las que se ilustran en este notebook, como **funcionalidades de operaciones espaciales y temporales** o como **interpolación, subsetting o intersección espacial**. Además, brinda funcionalidades para la **corrección de sesgo y downscaling**. Consulta [Iturbide et al., 2019](https://www.sciencedirect.com/science/article/pii/S1364815218303049?via%3Dihub) y el repositorio de [github de climate4R](https://github.com/SantanderMetGroup/climate4R) para más información.\n",
    "\n",
    "Para usuarios de Python, también se dispone de un entorno **`python 3`**. Es importante señalar, no obstante, que en este caso el software preinstalado es más básico.\n"
   ]
  },
  {
   "cell_type": "markdown",
   "id": "aa2b7d47-6cfe-4591-b64f-f20f79c1fd0d",
   "metadata": {},
   "source": [
    "### Contenido de este cuaderno\n",
    "1) Carga de librerías\n",
    "2) Selección de conjuntos de datos  \n",
    "3) Carga de datos\n",
    "4) Carga y armonización de varios datasets\n",
    "   * 4.1. Interpolación a una malla común y unión de varios datasets en un único objeto grid\n",
    "5) Análisis básico\n",
    "6) Session Info"
   ]
  },
  {
   "cell_type": "markdown",
   "id": "25309b26-b74d-491d-823a-e07f67af1a99",
   "metadata": {},
   "source": [
    "Antes de empezar definiremos el heap space de java."
   ]
  },
  {
   "cell_type": "code",
   "execution_count": 28,
   "id": "f596a01b-3f11-438a-93ca-72c25a9c06c3",
   "metadata": {},
   "outputs": [],
   "source": [
    "options(java.parameters = \"-Xmx20g\")"
   ]
  },
  {
   "cell_type": "markdown",
   "id": "406d438d-b10c-40ef-ba96-02b96302e3b1",
   "metadata": {},
   "source": [
    "Antes de empezar, o en cualquier momento durante el cuaderno, podemos personalizar el área de visualización de gráficos de la siguiente manera:"
   ]
  },
  {
   "cell_type": "code",
   "execution_count": 29,
   "id": "f72aa296-4886-4e5b-bd8d-37bd79cf28ff",
   "metadata": {},
   "outputs": [],
   "source": [
    "library(repr)\n",
    "# Change plot size \n",
    "options(repr.plot.width=8, repr.plot.height=5)"
   ]
  },
  {
   "cell_type": "markdown",
   "id": "012c727a-43d4-473c-8a8c-9ddd7580b2a3",
   "metadata": {},
   "source": [
    "***"
   ]
  },
  {
   "cell_type": "markdown",
   "id": "00f217cc-1403-4d84-9929-95a36651cac3",
   "metadata": {},
   "source": [
    "### 1. Carga de librerías"
   ]
  },
  {
   "cell_type": "markdown",
   "id": "3be2bf59-adc6-4ce9-9126-78ebd2177cfa",
   "metadata": {},
   "source": [
    "Las librerías/paquetes centrales de ***climate4R*** que permiten **cargar y transformar** datos (p. ej., agregaciones espaciotemporales) y **visualizarlos** son `loadeR`, `transformeR` y `visualizeR`."
   ]
  },
  {
   "cell_type": "code",
   "execution_count": 30,
   "id": "564555b9-8438-4d3d-8550-4703594d9292",
   "metadata": {},
   "outputs": [],
   "source": [
    "library(loadeR)\n",
    "library(transformeR)\n",
    "library(visualizeR)"
   ]
  },
  {
   "cell_type": "markdown",
   "id": "9e8d6715-bb0d-45d6-a9e8-a7cbfb2ab1b9",
   "metadata": {},
   "source": [
    "Sin embargo, el software incluye todo el framework *climate4R* y otras bibliotecas útiles. Por ejemplo, incluye la potente biblioteca de gráficos `lattice` o la biblioteca `magrittr` para operaciones en tuberías (a través de `%>%`)."
   ]
  },
  {
   "cell_type": "code",
   "execution_count": 31,
   "id": "301ade85-fd22-4bae-b071-4fb9b996b9e8",
   "metadata": {},
   "outputs": [],
   "source": [
    "library(lattice)\n",
    "library(magrittr)"
   ]
  },
  {
   "cell_type": "markdown",
   "id": "eb62c611-00f4-4baa-a792-8a240181b366",
   "metadata": {},
   "source": [
    "### 2. Selección de conjuntos de datos\n",
    "\n",
    "El inventario (`data_inventory.csv`) cataloga la lista de archivos del [**Almacén de datos de la PTI-Clima**](https://pti.climate.ifca.es/data).\n",
    "\n",
    "Simplemente necesitamos leer este archivo con la función `read.csv` para obtener el `data.frame` con esta información, que contiene seis columnas: `location`, `type`, `variable`, `project`, `experiment`, `frequency`."
   ]
  },
  {
   "cell_type": "code",
   "execution_count": 32,
   "id": "50f52ff6-37c9-47b5-b8b1-0fcabd517de9",
   "metadata": {},
   "outputs": [],
   "source": [
    "df <- read.csv(\"../../data_inventory.csv\")"
   ]
  },
  {
   "cell_type": "code",
   "execution_count": 33,
   "id": "99bb38c2-e5d8-4c9f-96da-8534dd2faee9",
   "metadata": {},
   "outputs": [
    {
     "name": "stdout",
     "output_type": "stream",
     "text": [
      "'data.frame':\t118 obs. of  9 variables:\n",
      " $ dataset   : chr  \"AEMET-5KM-regular_Iberia_day\" \"CHELSA-W5E5v1.0_Canarias_day\" \"CHELSA-W5E5v1.0_Iberia_day\" \"PTI-grid-v0_Canarias_day\" ...\n",
      " $ type      : chr  \"observations\" \"observations\" \"observations\" \"observations\" ...\n",
      " $ access    : chr  \"opendap\" \"opendap\" \"opendap\" \"opendap\" ...\n",
      " $ source    : chr  \"AEMET-5KM-regular\" \"CHELSA-W5E5v1.0\" \"CHELSA-W5E5v1.0\" \"PTI-grid-v0\" ...\n",
      " $ provider  : chr  \"\" \"\" \"\" \"\" ...\n",
      " $ experiment: chr  \"\" \"\" \"\" \"\" ...\n",
      " $ frequency : chr  \"day\" \"day\" \"day\" \"day\" ...\n",
      " $ endpoint  : chr  \"https://data.meteo.unican.es/thredds/dodsC/PTI-clima/observations/AEMET-5KM-regular_Iberia_day.ncml\" \"https://data.meteo.unican.es/thredds/dodsC/PTI-clima/observations/CHELSA-W5E5v1.0_Canarias_day.ncml\" \"https://data.meteo.unican.es/thredds/dodsC/PTI-clima/observations/CHELSA-W5E5v1.0_Iberia_day.ncml\" \"https://data.meteo.unican.es/thredds/dodsC/PTI-clima/observations/PTI-grid-v0_Canarias_day.ncml\" ...\n",
      " $ dictionary: chr  \"../../Harmonization_dictionaries/AEMET-5KM-regular.dic\" \"../../Harmonization_dictionaries/CHELSA-W5E5v1.0.dic\" \"../../Harmonization_dictionaries/CHELSA-W5E5v1.0.dic\" \"../../Harmonization_dictionaries/PTI-grid-v0.dic\" ...\n"
     ]
    }
   ],
   "source": [
    "str(df)"
   ]
  },
  {
   "cell_type": "markdown",
   "id": "b615c00d-58e0-4953-b033-166dc9435d2a",
   "metadata": {},
   "source": [
    "Podremos ver las primeras filas del `data.frame` resultande con la función `head`."
   ]
  },
  {
   "cell_type": "code",
   "execution_count": 34,
   "id": "b274a70b-074e-4a9b-9e8a-1e2a72866437",
   "metadata": {},
   "outputs": [
    {
     "data": {
      "text/html": [
       "<table class=\"dataframe\">\n",
       "<caption>A data.frame: 6 × 9</caption>\n",
       "<thead>\n",
       "\t<tr><th></th><th scope=col>dataset</th><th scope=col>type</th><th scope=col>access</th><th scope=col>source</th><th scope=col>provider</th><th scope=col>experiment</th><th scope=col>frequency</th><th scope=col>endpoint</th><th scope=col>dictionary</th></tr>\n",
       "\t<tr><th></th><th scope=col>&lt;chr&gt;</th><th scope=col>&lt;chr&gt;</th><th scope=col>&lt;chr&gt;</th><th scope=col>&lt;chr&gt;</th><th scope=col>&lt;chr&gt;</th><th scope=col>&lt;chr&gt;</th><th scope=col>&lt;chr&gt;</th><th scope=col>&lt;chr&gt;</th><th scope=col>&lt;chr&gt;</th></tr>\n",
       "</thead>\n",
       "<tbody>\n",
       "\t<tr><th scope=row>1</th><td>AEMET-5KM-regular_Iberia_day                                                                   </td><td>observations</td><td>opendap</td><td>AEMET-5KM-regular</td><td>    </td><td>          </td><td>day</td><td>https://data.meteo.unican.es/thredds/dodsC/PTI-clima/observations/AEMET-5KM-regular_Iberia_day.ncml                                                                        </td><td>../../Harmonization_dictionaries/AEMET-5KM-regular.dic</td></tr>\n",
       "\t<tr><th scope=row>2</th><td>CHELSA-W5E5v1.0_Canarias_day                                                                   </td><td>observations</td><td>opendap</td><td>CHELSA-W5E5v1.0  </td><td>    </td><td>          </td><td>day</td><td>https://data.meteo.unican.es/thredds/dodsC/PTI-clima/observations/CHELSA-W5E5v1.0_Canarias_day.ncml                                                                        </td><td>../../Harmonization_dictionaries/CHELSA-W5E5v1.0.dic  </td></tr>\n",
       "\t<tr><th scope=row>3</th><td>CHELSA-W5E5v1.0_Iberia_day                                                                     </td><td>observations</td><td>opendap</td><td>CHELSA-W5E5v1.0  </td><td>    </td><td>          </td><td>day</td><td>https://data.meteo.unican.es/thredds/dodsC/PTI-clima/observations/CHELSA-W5E5v1.0_Iberia_day.ncml                                                                          </td><td>../../Harmonization_dictionaries/CHELSA-W5E5v1.0.dic  </td></tr>\n",
       "\t<tr><th scope=row>4</th><td>PTI-grid-v0_Canarias_day                                                                       </td><td>observations</td><td>opendap</td><td>PTI-grid-v0      </td><td>    </td><td>          </td><td>day</td><td>https://data.meteo.unican.es/thredds/dodsC/PTI-clima/observations/PTI-grid-v0_Canarias_day.ncml                                                                            </td><td>../../Harmonization_dictionaries/PTI-grid-v0.dic      </td></tr>\n",
       "\t<tr><th scope=row>5</th><td>PTI-grid-v0_Iberia_day                                                                         </td><td>observations</td><td>opendap</td><td>PTI-grid-v0      </td><td>    </td><td>          </td><td>day</td><td>https://data.meteo.unican.es/thredds/dodsC/PTI-clima/observations/PTI-grid-v0_Iberia_day.ncml                                                                              </td><td>../../Harmonization_dictionaries/PTI-grid-v0.dic      </td></tr>\n",
       "\t<tr><th scope=row>6</th><td>CORDEXbc_output_EUR-11_CLMcom-ETH_ICHEC-EC-EARTH_historical_CLMcom-ETH-COSMO-crCLIM-v1-1_v1_day</td><td>projections </td><td>opendap</td><td>CORDEX           </td><td>ESGF</td><td>historical</td><td>day</td><td>https://data.meteo.unican.es/thredds/dodsC/PTI-clima/projections/spain/CORDEXbc_output_EUR-11_CLMcom-ETH_ICHEC-EC-EARTH_historical_CLMcom-ETH-COSMO-crCLIM-v1-1_v1_day.ncml</td><td>../../Harmonization_dictionaries/CORDEXbc.dic         </td></tr>\n",
       "</tbody>\n",
       "</table>\n"
      ],
      "text/latex": [
       "A data.frame: 6 × 9\n",
       "\\begin{tabular}{r|lllllllll}\n",
       "  & dataset & type & access & source & provider & experiment & frequency & endpoint & dictionary\\\\\n",
       "  & <chr> & <chr> & <chr> & <chr> & <chr> & <chr> & <chr> & <chr> & <chr>\\\\\n",
       "\\hline\n",
       "\t1 & AEMET-5KM-regular\\_Iberia\\_day                                                                    & observations & opendap & AEMET-5KM-regular &      &            & day & https://data.meteo.unican.es/thredds/dodsC/PTI-clima/observations/AEMET-5KM-regular\\_Iberia\\_day.ncml                                                                         & ../../Harmonization\\_dictionaries/AEMET-5KM-regular.dic\\\\\n",
       "\t2 & CHELSA-W5E5v1.0\\_Canarias\\_day                                                                    & observations & opendap & CHELSA-W5E5v1.0   &      &            & day & https://data.meteo.unican.es/thredds/dodsC/PTI-clima/observations/CHELSA-W5E5v1.0\\_Canarias\\_day.ncml                                                                         & ../../Harmonization\\_dictionaries/CHELSA-W5E5v1.0.dic  \\\\\n",
       "\t3 & CHELSA-W5E5v1.0\\_Iberia\\_day                                                                      & observations & opendap & CHELSA-W5E5v1.0   &      &            & day & https://data.meteo.unican.es/thredds/dodsC/PTI-clima/observations/CHELSA-W5E5v1.0\\_Iberia\\_day.ncml                                                                           & ../../Harmonization\\_dictionaries/CHELSA-W5E5v1.0.dic  \\\\\n",
       "\t4 & PTI-grid-v0\\_Canarias\\_day                                                                        & observations & opendap & PTI-grid-v0       &      &            & day & https://data.meteo.unican.es/thredds/dodsC/PTI-clima/observations/PTI-grid-v0\\_Canarias\\_day.ncml                                                                             & ../../Harmonization\\_dictionaries/PTI-grid-v0.dic      \\\\\n",
       "\t5 & PTI-grid-v0\\_Iberia\\_day                                                                          & observations & opendap & PTI-grid-v0       &      &            & day & https://data.meteo.unican.es/thredds/dodsC/PTI-clima/observations/PTI-grid-v0\\_Iberia\\_day.ncml                                                                               & ../../Harmonization\\_dictionaries/PTI-grid-v0.dic      \\\\\n",
       "\t6 & CORDEXbc\\_output\\_EUR-11\\_CLMcom-ETH\\_ICHEC-EC-EARTH\\_historical\\_CLMcom-ETH-COSMO-crCLIM-v1-1\\_v1\\_day & projections  & opendap & CORDEX            & ESGF & historical & day & https://data.meteo.unican.es/thredds/dodsC/PTI-clima/projections/spain/CORDEXbc\\_output\\_EUR-11\\_CLMcom-ETH\\_ICHEC-EC-EARTH\\_historical\\_CLMcom-ETH-COSMO-crCLIM-v1-1\\_v1\\_day.ncml & ../../Harmonization\\_dictionaries/CORDEXbc.dic         \\\\\n",
       "\\end{tabular}\n"
      ],
      "text/markdown": [
       "\n",
       "A data.frame: 6 × 9\n",
       "\n",
       "| <!--/--> | dataset &lt;chr&gt; | type &lt;chr&gt; | access &lt;chr&gt; | source &lt;chr&gt; | provider &lt;chr&gt; | experiment &lt;chr&gt; | frequency &lt;chr&gt; | endpoint &lt;chr&gt; | dictionary &lt;chr&gt; |\n",
       "|---|---|---|---|---|---|---|---|---|---|\n",
       "| 1 | AEMET-5KM-regular_Iberia_day                                                                    | observations | opendap | AEMET-5KM-regular | <!----> | <!----> | day | https://data.meteo.unican.es/thredds/dodsC/PTI-clima/observations/AEMET-5KM-regular_Iberia_day.ncml                                                                         | ../../Harmonization_dictionaries/AEMET-5KM-regular.dic |\n",
       "| 2 | CHELSA-W5E5v1.0_Canarias_day                                                                    | observations | opendap | CHELSA-W5E5v1.0   | <!----> | <!----> | day | https://data.meteo.unican.es/thredds/dodsC/PTI-clima/observations/CHELSA-W5E5v1.0_Canarias_day.ncml                                                                         | ../../Harmonization_dictionaries/CHELSA-W5E5v1.0.dic   |\n",
       "| 3 | CHELSA-W5E5v1.0_Iberia_day                                                                      | observations | opendap | CHELSA-W5E5v1.0   | <!----> | <!----> | day | https://data.meteo.unican.es/thredds/dodsC/PTI-clima/observations/CHELSA-W5E5v1.0_Iberia_day.ncml                                                                           | ../../Harmonization_dictionaries/CHELSA-W5E5v1.0.dic   |\n",
       "| 4 | PTI-grid-v0_Canarias_day                                                                        | observations | opendap | PTI-grid-v0       | <!----> | <!----> | day | https://data.meteo.unican.es/thredds/dodsC/PTI-clima/observations/PTI-grid-v0_Canarias_day.ncml                                                                             | ../../Harmonization_dictionaries/PTI-grid-v0.dic       |\n",
       "| 5 | PTI-grid-v0_Iberia_day                                                                          | observations | opendap | PTI-grid-v0       | <!----> | <!----> | day | https://data.meteo.unican.es/thredds/dodsC/PTI-clima/observations/PTI-grid-v0_Iberia_day.ncml                                                                               | ../../Harmonization_dictionaries/PTI-grid-v0.dic       |\n",
       "| 6 | CORDEXbc_output_EUR-11_CLMcom-ETH_ICHEC-EC-EARTH_historical_CLMcom-ETH-COSMO-crCLIM-v1-1_v1_day | projections  | opendap | CORDEX            | ESGF | historical | day | https://data.meteo.unican.es/thredds/dodsC/PTI-clima/projections/spain/CORDEXbc_output_EUR-11_CLMcom-ETH_ICHEC-EC-EARTH_historical_CLMcom-ETH-COSMO-crCLIM-v1-1_v1_day.ncml | ../../Harmonization_dictionaries/CORDEXbc.dic          |\n",
       "\n"
      ],
      "text/plain": [
       "  dataset                                                                                        \n",
       "1 AEMET-5KM-regular_Iberia_day                                                                   \n",
       "2 CHELSA-W5E5v1.0_Canarias_day                                                                   \n",
       "3 CHELSA-W5E5v1.0_Iberia_day                                                                     \n",
       "4 PTI-grid-v0_Canarias_day                                                                       \n",
       "5 PTI-grid-v0_Iberia_day                                                                         \n",
       "6 CORDEXbc_output_EUR-11_CLMcom-ETH_ICHEC-EC-EARTH_historical_CLMcom-ETH-COSMO-crCLIM-v1-1_v1_day\n",
       "  type         access  source            provider experiment frequency\n",
       "1 observations opendap AEMET-5KM-regular                     day      \n",
       "2 observations opendap CHELSA-W5E5v1.0                       day      \n",
       "3 observations opendap CHELSA-W5E5v1.0                       day      \n",
       "4 observations opendap PTI-grid-v0                           day      \n",
       "5 observations opendap PTI-grid-v0                           day      \n",
       "6 projections  opendap CORDEX            ESGF     historical day      \n",
       "  endpoint                                                                                                                                                                   \n",
       "1 https://data.meteo.unican.es/thredds/dodsC/PTI-clima/observations/AEMET-5KM-regular_Iberia_day.ncml                                                                        \n",
       "2 https://data.meteo.unican.es/thredds/dodsC/PTI-clima/observations/CHELSA-W5E5v1.0_Canarias_day.ncml                                                                        \n",
       "3 https://data.meteo.unican.es/thredds/dodsC/PTI-clima/observations/CHELSA-W5E5v1.0_Iberia_day.ncml                                                                          \n",
       "4 https://data.meteo.unican.es/thredds/dodsC/PTI-clima/observations/PTI-grid-v0_Canarias_day.ncml                                                                            \n",
       "5 https://data.meteo.unican.es/thredds/dodsC/PTI-clima/observations/PTI-grid-v0_Iberia_day.ncml                                                                              \n",
       "6 https://data.meteo.unican.es/thredds/dodsC/PTI-clima/projections/spain/CORDEXbc_output_EUR-11_CLMcom-ETH_ICHEC-EC-EARTH_historical_CLMcom-ETH-COSMO-crCLIM-v1-1_v1_day.ncml\n",
       "  dictionary                                            \n",
       "1 ../../Harmonization_dictionaries/AEMET-5KM-regular.dic\n",
       "2 ../../Harmonization_dictionaries/CHELSA-W5E5v1.0.dic  \n",
       "3 ../../Harmonization_dictionaries/CHELSA-W5E5v1.0.dic  \n",
       "4 ../../Harmonization_dictionaries/PTI-grid-v0.dic      \n",
       "5 ../../Harmonization_dictionaries/PTI-grid-v0.dic      \n",
       "6 ../../Harmonization_dictionaries/CORDEXbc.dic         "
      ]
     },
     "metadata": {},
     "output_type": "display_data"
    }
   ],
   "source": [
    "head(df)"
   ]
  },
  {
   "cell_type": "markdown",
   "id": "7532fe2e-363f-4c5d-aa34-2e2374e6f38b",
   "metadata": {},
   "source": [
    "Se observan diferentes columnas o campos que describen los datos:"
   ]
  },
  {
   "cell_type": "markdown",
   "id": "f2e2ef17-c5f9-4688-a34c-f767d80cbb80",
   "metadata": {},
   "source": [
    "* `dataset` se refiere al nombre que se le da a cada instancia de datos en el almacén.\n",
    "* `type` se refiere al tipo de los conjuntos de datos, ya sea \"observaciones\" (observations), \"reanalisis\" (reanalysis) o proyecciones (projections).\n",
    "* `source` se refiere al conjuntos de datos de origen (p. ej., CORDEX-EUR, CMIP5, CMIP6, etc.).  \n",
    "* `provider` se refiere a la entidad distribuidora de donde se obtuvieron los datos originales.  \n",
    "* `access` se refiere al modo de acceso, ya sea local (netcdf) o remoto (opendap).\n",
    "* `experiment` se refiere al escenario (p. ej., historical, rcp26, ssp126, rcp85, etc.).\n",
    "* `frequency` se refiere a la escala temporal de los datos.\n",
    "* `endpoint` se refiere a la ruta del archivo de datos. Esta ruta es la que se utilizará para cargar los datos más adelante.\n",
    "* `dictionary` se refiere al archivo que determina el tipo de conversiones necesarias (unidades y nombre de variable) para cargar los datos de manera armonizada, independientemente de las características diferenciadas de los datasets en origen."
   ]
  },
  {
   "cell_type": "markdown",
   "id": "61c968f9-72b0-433b-8647-847daeec8ae0",
   "metadata": {},
   "source": [
    "Podemos **aplicar fácilmente filtros** para obtener el archivo deseado. El objetivo de este notebook es intercomparar las rejillas observacionales disponibles (incluyendo reanalysis), por lo tanto, filtraremos el catálogo de datos por tipo (`type`). Nos quedaremos con el nombre del `dataset`, el `endpoint` y el `dictionary`."
   ]
  },
  {
   "cell_type": "code",
   "execution_count": 35,
   "id": "ff813476-7ed6-4291-8ade-0495157fcc78",
   "metadata": {},
   "outputs": [
    {
     "name": "stdout",
     "output_type": "stream",
     "text": [
      "                         dataset\n",
      "1   AEMET-5KM-regular_Iberia_day\n",
      "2   CHELSA-W5E5v1.0_Canarias_day\n",
      "3     CHELSA-W5E5v1.0_Iberia_day\n",
      "4       PTI-grid-v0_Canarias_day\n",
      "5         PTI-grid-v0_Iberia_day\n",
      "117       ERA5-Land_Canarias_day\n",
      "118         ERA5-Land_Iberia_day\n",
      "                                                                                               endpoint\n",
      "1   https://data.meteo.unican.es/thredds/dodsC/PTI-clima/observations/AEMET-5KM-regular_Iberia_day.ncml\n",
      "2   https://data.meteo.unican.es/thredds/dodsC/PTI-clima/observations/CHELSA-W5E5v1.0_Canarias_day.ncml\n",
      "3     https://data.meteo.unican.es/thredds/dodsC/PTI-clima/observations/CHELSA-W5E5v1.0_Iberia_day.ncml\n",
      "4       https://data.meteo.unican.es/thredds/dodsC/PTI-clima/observations/PTI-grid-v0_Canarias_day.ncml\n",
      "5         https://data.meteo.unican.es/thredds/dodsC/PTI-clima/observations/PTI-grid-v0_Iberia_day.ncml\n",
      "117         https://data.meteo.unican.es/thredds/dodsC/PTI-clima/reanalysis/ERA5-Land_Canarias_day.ncml\n",
      "118           https://data.meteo.unican.es/thredds/dodsC/PTI-clima/reanalysis/ERA5-Land_Iberia_day.ncml\n",
      "                                                dictionary\n",
      "1   ../../Harmonization_dictionaries/AEMET-5KM-regular.dic\n",
      "2     ../../Harmonization_dictionaries/CHELSA-W5E5v1.0.dic\n",
      "3     ../../Harmonization_dictionaries/CHELSA-W5E5v1.0.dic\n",
      "4         ../../Harmonization_dictionaries/PTI-grid-v0.dic\n",
      "5         ../../Harmonization_dictionaries/PTI-grid-v0.dic\n",
      "117         ../../Harmonization_dictionaries/ERA5-Land.dic\n",
      "118         ../../Harmonization_dictionaries/ERA5-Land.dic\n"
     ]
    }
   ],
   "source": [
    "obs <- subset(df, type == \"observations\")[c(\"dataset\", \"endpoint\", \"dictionary\")]\n",
    "rea <- subset(df, type == \"reanalysis\")[c(\"dataset\", \"endpoint\", \"dictionary\")]\n",
    "datasets <- rbind(obs, rea) %>% print"
   ]
  },
  {
   "cell_type": "markdown",
   "id": "aa501bcd-d5a4-43fa-9bf3-4c81fbd56553",
   "metadata": {},
   "source": [
    "En este caso, optaremos por la región de España peninsular y Baleares. Estos son los datasets que contienen `Iberia` en su nombre."
   ]
  },
  {
   "cell_type": "code",
   "execution_count": 36,
   "id": "45bff8d0-0279-416f-8ffb-ed812c8cfd9e",
   "metadata": {},
   "outputs": [
    {
     "name": "stdout",
     "output_type": "stream",
     "text": [
      "                         dataset\n",
      "1   AEMET-5KM-regular_Iberia_day\n",
      "3     CHELSA-W5E5v1.0_Iberia_day\n",
      "5         PTI-grid-v0_Iberia_day\n",
      "118         ERA5-Land_Iberia_day\n",
      "                                                                                               endpoint\n",
      "1   https://data.meteo.unican.es/thredds/dodsC/PTI-clima/observations/AEMET-5KM-regular_Iberia_day.ncml\n",
      "3     https://data.meteo.unican.es/thredds/dodsC/PTI-clima/observations/CHELSA-W5E5v1.0_Iberia_day.ncml\n",
      "5         https://data.meteo.unican.es/thredds/dodsC/PTI-clima/observations/PTI-grid-v0_Iberia_day.ncml\n",
      "118           https://data.meteo.unican.es/thredds/dodsC/PTI-clima/reanalysis/ERA5-Land_Iberia_day.ncml\n",
      "                                                dictionary\n",
      "1   ../../Harmonization_dictionaries/AEMET-5KM-regular.dic\n",
      "3     ../../Harmonization_dictionaries/CHELSA-W5E5v1.0.dic\n",
      "5         ../../Harmonization_dictionaries/PTI-grid-v0.dic\n",
      "118         ../../Harmonization_dictionaries/ERA5-Land.dic\n"
     ]
    }
   ],
   "source": [
    "ind <- grep(\"Iberia\", datasets$dataset)\n",
    "datasets <- datasets[ind,] %>% print"
   ]
  },
  {
   "cell_type": "markdown",
   "id": "4180b8ed-fd9c-48bf-b83b-7103244ca0cf",
   "metadata": {},
   "source": [
    "Por simplicidad y rapidez, no incluiremos `CHELSA-W5E5v1.0_Iberia_day` en este notebook ilustrativo. "
   ]
  },
  {
   "cell_type": "code",
   "execution_count": 37,
   "id": "e410741e-4984-4d55-8dd8-d99d98706854",
   "metadata": {},
   "outputs": [
    {
     "name": "stdout",
     "output_type": "stream",
     "text": [
      "                         dataset\n",
      "1   AEMET-5KM-regular_Iberia_day\n",
      "5         PTI-grid-v0_Iberia_day\n",
      "118         ERA5-Land_Iberia_day\n",
      "                                                                                               endpoint\n",
      "1   https://data.meteo.unican.es/thredds/dodsC/PTI-clima/observations/AEMET-5KM-regular_Iberia_day.ncml\n",
      "5         https://data.meteo.unican.es/thredds/dodsC/PTI-clima/observations/PTI-grid-v0_Iberia_day.ncml\n",
      "118           https://data.meteo.unican.es/thredds/dodsC/PTI-clima/reanalysis/ERA5-Land_Iberia_day.ncml\n",
      "                                                dictionary\n",
      "1   ../../Harmonization_dictionaries/AEMET-5KM-regular.dic\n",
      "5         ../../Harmonization_dictionaries/PTI-grid-v0.dic\n",
      "118         ../../Harmonization_dictionaries/ERA5-Land.dic\n"
     ]
    }
   ],
   "source": [
    "ind <- grep(\"CHELSA\", datasets$dataset, invert = T)\n",
    "datasets <- datasets[ind,] %>% print"
   ]
  },
  {
   "cell_type": "markdown",
   "id": "037b178e-3a29-42a9-ac65-1cf7394f47b9",
   "metadata": {},
   "source": [
    "Una vez que tenemos los datasets y sus `endpoint`, podemos mostrar fácilmente las características de los datos que contienen. Para hacerlo, empleamos la función `dataInventory` del paquete `loadeR`. Por ejemplo, para el dataset **AEMET-5KM-regular_Iberia_day**, realizaremos el inventario de la siguiente manera."
   ]
  },
  {
   "cell_type": "code",
   "execution_count": 38,
   "id": "dfddc1dc-e550-4b18-b9eb-eb38da881963",
   "metadata": {},
   "outputs": [
    {
     "name": "stderr",
     "output_type": "stream",
     "text": [
      "[2025-01-16 18:21:14.176516] Doing inventory ...\n",
      "\n",
      "[2025-01-16 18:21:14.572972] Opening dataset...\n",
      "\n",
      "[2025-01-16 18:21:16.040035] The dataset was successfuly opened\n",
      "\n",
      "[2025-01-16 18:21:17.085363] Retrieving info for 'pr' (2 vars remaining)\n",
      "\n",
      "[2025-01-16 18:21:17.153389] Retrieving info for 'tasmax' (1 vars remaining)\n",
      "\n",
      "[2025-01-16 18:21:17.218839] Retrieving info for 'tasmin' (0 vars remaining)\n",
      "\n",
      "[2025-01-16 18:21:17.313326] Done.\n",
      "\n"
     ]
    }
   ],
   "source": [
    "AEMET5KM.endpoint <- subset(datasets, dataset == \"AEMET-5KM-regular_Iberia_day\")[[\"endpoint\"]]\n",
    "di <- dataInventory(AEMET5KM.endpoint)"
   ]
  },
  {
   "cell_type": "markdown",
   "id": "28c9ed1f-e0cf-45a4-8bf4-04f73cb2f33b",
   "metadata": {},
   "source": [
    "Podemos echar un primer vistazo a la información disponible con `str`."
   ]
  },
  {
   "cell_type": "code",
   "execution_count": 39,
   "id": "35aa0a9f-4bc3-4be9-87b7-935578a27ef9",
   "metadata": {},
   "outputs": [
    {
     "name": "stdout",
     "output_type": "stream",
     "text": [
      "List of 3\n",
      " $ pr    :List of 7\n",
      "  ..$ Description: chr \"precipitation amount\"\n",
      "  ..$ DataType   : chr \"float\"\n",
      "  ..$ Shape      : int [1:3] 26298 170 273\n",
      "  ..$ Units      : chr \"kg m-2\"\n",
      "  ..$ DataSizeMb : num 4882\n",
      "  ..$ Version    : logi NA\n",
      "  ..$ Dimensions :List of 3\n",
      "  .. ..$ time:List of 4\n",
      "  .. .. ..$ Type      : chr \"Time\"\n",
      "  .. .. ..$ TimeStep  : chr \"1.0 days\"\n",
      "  .. .. ..$ Units     : chr \"days since 1951-01-01 00:00:00\"\n",
      "  .. .. ..$ Date_range: chr \"1951-01-01T00:00:00Z - 2022-12-31T00:00:00Z\"\n",
      "  .. ..$ lat :List of 5\n",
      "  .. .. ..$ Type       : chr \"Lat\"\n",
      "  .. .. ..$ Units      : chr \"degrees_north\"\n",
      "  .. .. ..$ Values     : num [1:170] 35.3 35.3 35.4 35.4 35.5 ...\n",
      "  .. .. ..$ Shape      : int 170\n",
      "  .. .. ..$ Coordinates: chr \"lat\"\n",
      "  .. ..$ lon :List of 5\n",
      "  .. .. ..$ Type       : chr \"Lon\"\n",
      "  .. .. ..$ Units      : chr \"degrees_east\"\n",
      "  .. .. ..$ Values     : num [1:273] -9.32 -9.27 -9.22 -9.17 -9.12 ...\n",
      "  .. .. ..$ Shape      : int 273\n",
      "  .. .. ..$ Coordinates: chr \"lon\"\n",
      " $ tasmax:List of 7\n",
      "  ..$ Description: chr \"temperature\"\n",
      "  ..$ DataType   : chr \"float\"\n",
      "  ..$ Shape      : int [1:3] 26298 170 273\n",
      "  ..$ Units      : chr \"C\"\n",
      "  ..$ DataSizeMb : num 4882\n",
      "  ..$ Version    : logi NA\n",
      "  ..$ Dimensions :List of 3\n",
      "  .. ..$ time:List of 4\n",
      "  .. .. ..$ Type      : chr \"Time\"\n",
      "  .. .. ..$ TimeStep  : chr \"1.0 days\"\n",
      "  .. .. ..$ Units     : chr \"days since 1951-01-01 00:00:00\"\n",
      "  .. .. ..$ Date_range: chr \"1951-01-01T00:00:00Z - 2022-12-31T00:00:00Z\"\n",
      "  .. ..$ lat :List of 5\n",
      "  .. .. ..$ Type       : chr \"Lat\"\n",
      "  .. .. ..$ Units      : chr \"degrees_north\"\n",
      "  .. .. ..$ Values     : num [1:170] 35.3 35.3 35.4 35.4 35.5 ...\n",
      "  .. .. ..$ Shape      : int 170\n",
      "  .. .. ..$ Coordinates: chr \"lat\"\n",
      "  .. ..$ lon :List of 5\n",
      "  .. .. ..$ Type       : chr \"Lon\"\n",
      "  .. .. ..$ Units      : chr \"degrees_east\"\n",
      "  .. .. ..$ Values     : num [1:273] -9.32 -9.27 -9.22 -9.17 -9.12 ...\n",
      "  .. .. ..$ Shape      : int 273\n",
      "  .. .. ..$ Coordinates: chr \"lon\"\n",
      " $ tasmin:List of 7\n",
      "  ..$ Description: chr \"temperature\"\n",
      "  ..$ DataType   : chr \"float\"\n",
      "  ..$ Shape      : int [1:3] 26298 170 273\n",
      "  ..$ Units      : chr \"C\"\n",
      "  ..$ DataSizeMb : num 4882\n",
      "  ..$ Version    : logi NA\n",
      "  ..$ Dimensions :List of 3\n",
      "  .. ..$ time:List of 4\n",
      "  .. .. ..$ Type      : chr \"Time\"\n",
      "  .. .. ..$ TimeStep  : chr \"1.0 days\"\n",
      "  .. .. ..$ Units     : chr \"days since 1951-01-01 00:00:00\"\n",
      "  .. .. ..$ Date_range: chr \"1951-01-01T00:00:00Z - 2022-12-31T00:00:00Z\"\n",
      "  .. ..$ lat :List of 5\n",
      "  .. .. ..$ Type       : chr \"Lat\"\n",
      "  .. .. ..$ Units      : chr \"degrees_north\"\n",
      "  .. .. ..$ Values     : num [1:170] 35.3 35.3 35.4 35.4 35.5 ...\n",
      "  .. .. ..$ Shape      : int 170\n",
      "  .. .. ..$ Coordinates: chr \"lat\"\n",
      "  .. ..$ lon :List of 5\n",
      "  .. .. ..$ Type       : chr \"Lon\"\n",
      "  .. .. ..$ Units      : chr \"degrees_east\"\n",
      "  .. .. ..$ Values     : num [1:273] -9.32 -9.27 -9.22 -9.17 -9.12 ...\n",
      "  .. .. ..$ Shape      : int 273\n",
      "  .. .. ..$ Coordinates: chr \"lon\"\n"
     ]
    }
   ],
   "source": [
    "str(di)"
   ]
  },
  {
   "cell_type": "markdown",
   "id": "0a88aa57-8815-4414-a5eb-13225706735d",
   "metadata": {},
   "source": [
    "Vemos que, para este dataset, hay tres variables disponibles: pr, tasmax y tasmin. Para cada una de ellas se detalla información adicional, como las unidades,el periodo temporal que cubren, las coordenadas etc."
   ]
  },
  {
   "cell_type": "markdown",
   "id": "16cad481-0187-42cc-aca4-e29d51bf586d",
   "metadata": {},
   "source": [
    "### 3. Carga de datos\n"
   ]
  },
  {
   "cell_type": "markdown",
   "id": "08392765-2cec-409c-84c0-4473f2c66f4e",
   "metadata": {},
   "source": [
    "La carga de datos se realiza mediante la **función `loadGridData`** especificando, como fuente de datos, la ruta de un archivo NetCDF o de un catálogo NcML. En nuestro caso, esa ruta es precisamente lo que encapsula el objeto **`endpoint`** que hemos definido anteriormente."
   ]
  },
  {
   "cell_type": "markdown",
   "id": "4a6c3a80-c594-4f2b-8d23-81e0d26b8ec7",
   "metadata": {},
   "source": [
    "También **es necesario especificar el parámetro `var`**, que en este ejemplo se establece como `tasmax` (temperatura superficial maxima). Ten en cuenta que **`loadGridData` permite establecer parámetros adicionales**. Por ejemplo, podríamos utilizar los parámetros `lonLim` y `latLim` para cargar únicamente el subconjunto de datos correspondiente a una región más pequeña. Si no se emplean estos parámetros se carga el dominio completo (como en este caso). Otro parámetro útil es `season`, para cargar datos de meses específicos (en este ejemplo, JJA para el verano boreal). En el parámetro `years`, especificamos el periodo deseado (en este caso, 1991-2020). El parámetro que habilita la carga de datos armonizados es `dictionary`. **Para obtener detalles sobre el funcionamiento de los diccionarios, puedes consultar el notebook `primeros_pasos_R.ipynb`**.\n",
    "\n",
    "Ejecuta `help(loadGridData)` para consultar otros parámetros disponibles.  \n",
    "\n",
    "La carga de datos puede tardar segundos o minutos dependiendo de la cantidad de datos que corresponda a la petición que hagamos. A continuación ilustramos la carga de datos de `AEMET-5KM-regular_Iberia_day`, definiendo previamente el `endpoint` y el `dictionary` concretos de este dataset."
   ]
  },
  {
   "cell_type": "code",
   "execution_count": 40,
   "id": "2ddce4fe-c07f-4ee9-9edb-4196b630432f",
   "metadata": {},
   "outputs": [],
   "source": [
    "dataset.i <- \"AEMET-5KM-regular_Iberia_day\"\n",
    "endpoint.i <- subset(datasets, dataset == dataset.i)[[\"endpoint\"]]\n",
    "dic.i <- subset(datasets, dataset == dataset.i)[[\"dictionary\"]]"
   ]
  },
  {
   "cell_type": "code",
   "execution_count": null,
   "id": "91193b91-3a32-4d86-b2f6-75aecde1a853",
   "metadata": {},
   "outputs": [
    {
     "name": "stderr",
     "output_type": "stream",
     "text": [
      "[2025-01-16 18:21:17.510461] Defining harmonization parameters for variable \"tasmax\"\n",
      "\n",
      "[2025-01-16 18:21:17.605944] Opening dataset...\n",
      "\n",
      "[2025-01-16 18:21:18.830543] The dataset was successfuly opened\n",
      "\n",
      "[2025-01-16 18:21:18.837788] Defining geo-location parameters\n",
      "\n",
      "[2025-01-16 18:21:18.9042] Defining time selection parameters\n",
      "\n",
      "[2025-01-16 18:21:19.066511] Retrieving data subset ...\n",
      "\n"
     ]
    }
   ],
   "source": [
    "tasmax.jja.aemet5km <- loadGridData(dataset = endpoint.i,\n",
    "                           var = \"tasmax\",\n",
    "                           season = 6:8,\n",
    "                           years = 1991:2020,\n",
    "                           dictionary = dic.i)"
   ]
  },
  {
   "cell_type": "markdown",
   "id": "8b8d1165-c1de-439b-9f0f-d62b2217ce19",
   "metadata": {},
   "source": [
    "Obtenemos así un `grid` de `climate4R` con el que podemos operar de manera transparente (Consulta `primeros_pasos_R.ipynb` para más detalles), por ejemplo para generar el mapa de la media climatológica:"
   ]
  },
  {
   "cell_type": "code",
   "execution_count": null,
   "id": "1f38473c-4ad3-410c-b7ac-9f9646174d7d",
   "metadata": {},
   "outputs": [],
   "source": [
    "spatialPlot(climatology(tasmax.jja.aemet5km))"
   ]
  },
  {
   "cell_type": "markdown",
   "id": "bb031041-80ca-4a35-9d7d-67800504318d",
   "metadata": {},
   "source": [
    "### 4. Carga y armonización de varios datasets"
   ]
  },
  {
   "cell_type": "markdown",
   "id": "09a2d027-c28b-427f-ac05-5b9c0123c2fe",
   "metadata": {},
   "source": [
    "Si queremos proceder de manera más eficiente, podemos **automatizar la carga en un bucle**. Primero, necesitamos conocer el **periodo de tiempo que comparten los diferentes datasets**. Para ello, podemos recurrir nuevamente a `dataInventory`, aplicado en un bucle esta vez. Extraeremos el atributo `Date_range`. Con extraer esta información para una de las variables (e.g. `di[[2]]`) es suficiente. También utilizaremos la función `suppressMessages` para evitar una larga lista de mensajes de salida."
   ]
  },
  {
   "cell_type": "code",
   "execution_count": null,
   "id": "d28e8c56-8939-496f-a9d7-52cce4bbb682",
   "metadata": {},
   "outputs": [],
   "source": [
    "di.all <- lapply(datasets$endpoint, function(d){\n",
    "    di <- dataInventory(d)\n",
    "    di[[2]]$Dimensions$time$Date_range\n",
    "}) %>% suppressMessages\n",
    "names(di.all) <- datasets$dataset\n",
    "str(di.all)"
   ]
  },
  {
   "cell_type": "markdown",
   "id": "07bee4cb-a001-44b4-bfaa-0b84e93116f0",
   "metadata": {},
   "source": [
    "Como podemos ver en el resultado obtenido, no todos los datasets llegan hasta 2020, por lo tanto **nos centraremos en el periodo 1987-2016**. Dado que cargar varios datasets para un periodo de 30 años ocupa mucha memoria, intentaremos reducir la carga sin comprometer los objetivos del análisis. En nuestro caso, no necesitamos el dato diario, así que realizaremos la agregación mensual en el momento de la carga con el arguento `aggr.m`, extrayendo el máximo de la temperatura máxima de cada mes. Además, utilizaremos los parámetros `lonLim` y `latLim`, para asegurarnos de que cargamos el mismo dominio en cada caso. Para ello, utilizaremos `AEMET-5KM-regular_Iberia_day` como referencia."
   ]
  },
  {
   "cell_type": "code",
   "execution_count": null,
   "id": "6b91bff7-ba6a-4c69-acda-5daa44a2dad1",
   "metadata": {},
   "outputs": [],
   "source": [
    "latLim <- di$pr$Dimensions$lat$Values %>% range\n",
    "lonLim <- di$pr$Dimensions$lon$Values %>% range"
   ]
  },
  {
   "cell_type": "markdown",
   "id": "9a57bae3-dad1-4ee3-9181-d653a957f45c",
   "metadata": {},
   "source": [
    "Ya podemos **realizar la carga**. Ten en cuenta que **esta operación puede tardar minutos**, ya que estamos cargando una gran cantidad de datos. Puedes guardar el objeto generado para evitar repetir esta operación en el futuro. Por ese motivo se incluye un `if` que comprueba si el objeto está creado anteriormente, y ejecuta la carga únicamente si el objeto no está en la ruta indicada (puedes modificar la ruta de `resulting.object.path`)."
   ]
  },
  {
   "cell_type": "code",
   "execution_count": null,
   "id": "1b937c81-74ea-40ff-afe4-29ec8f454f4e",
   "metadata": {},
   "outputs": [],
   "source": [
    "resulting.object.path <- \"../../../tasmax.jja.rds\"\n",
    "\n",
    "if (!file.exists(resulting.object.path)) {\n",
    "    \n",
    "    tasmax.jja <- lapply(datasets$dataset, function(d) {\n",
    "        dataset.i <- d\n",
    "        endpoint.i <- subset(datasets, dataset == dataset.i)[[\"endpoint\"]]\n",
    "        dic.i <- subset(datasets, dataset == dataset.i)[[\"dictionary\"]]\n",
    "        loadGridData(dataset = endpoint.i,\n",
    "                               lonLim = lonLim,\n",
    "                               latLim = latLim,\n",
    "                               var = \"tasmax\",\n",
    "                               season = 6:8,\n",
    "                               years = 1987:2016,\n",
    "                               aggr.m = \"max\",\n",
    "                               dictionary = dic.i)\n",
    "    }) %>% suppressMessages\n",
    "    \n",
    "    names(tasmax.jja) <- datasets$dataset\n",
    "    saveRDS(tasmax.jja, resulting.object.path)\n",
    "    \n",
    "} else {\n",
    "    \n",
    "    tasmax.jja <- readRDS(resulting.object.path)\n",
    "    \n",
    "}"
   ]
  },
  {
   "cell_type": "code",
   "execution_count": null,
   "id": "c526a49c-0b17-4efc-b9d1-c0522d1d73da",
   "metadata": {},
   "outputs": [],
   "source": [
    "endpoint.i <- \"https://data.meteo.unican.es/thredds/dodsC/PTI-clima/observations/CHELSA-W5E5v1.0_Iberia_day.ncml\"\n",
    "       z <- loadGridData(dataset = endpoint.i,\n",
    "                               lonLim = lonLim,\n",
    "                               latLim = latLim,\n",
    "                               var = \"tasmax\",\n",
    "                               season = 6:8,\n",
    "                               years = 2016,\n",
    "                               aggr.m = \"max\")"
   ]
  },
  {
   "cell_type": "code",
   "execution_count": null,
   "id": "37c4c0de-03cc-4d6d-9082-d4a13c40ba22",
   "metadata": {},
   "outputs": [],
   "source": [
    "lonLim\n"
   ]
  },
  {
   "cell_type": "markdown",
   "id": "0e37b23f-2ae0-4fb5-ac5a-206e34f56636",
   "metadata": {},
   "source": [
    "#### 4.1. Interpolación a una malla común y unión de varios datasets en un único objeto grid\n",
    "El objeto resultante de la operación anterior (aquí llamado `tasmax.jja`) es una lista de varios *grid* de *climate4R* (uno por cada dataset). Lo más cómodo es juntar toda esta información en un único *grid* que tenga una dimensión `member`, correspondiente a cada dataset. Sin embargo, para poder llevar a cabo esta operación es necesarios que todos los datasets compartan la misma malla espacial. Esto lo podemos hacer con una interpolación sencilla de tipo `nearest` con la función `interpGrid`. En este caso, lo vamos a interpolar todo a la malla de `AEMET-5KM-regular_Iberia_day`."
   ]
  },
  {
   "cell_type": "code",
   "execution_count": null,
   "id": "2cdab250-c1ee-4e4b-8796-c48e713b432d",
   "metadata": {
    "scrolled": true
   },
   "outputs": [],
   "source": [
    "resulting.object.path2 <- \"../../../tasmax.jja.interp.rds\"\n",
    "\n",
    "if (!file.exists(resulting.object.path2)) {\n",
    "    \n",
    "    tasmax.jja.interp <- lapply(tasmax.jja, function(x)  \n",
    "        interpGrid(x, new.coordinates = getCoordinates(tasmax.jja[[\"AEMET-5KM-regular_Iberia_day\"]]), \n",
    "               method = \"bilinear\"))\n",
    "    \n",
    "    names(tasmax.jja.interp) <- names(tasmax.jja)                        \n",
    "    saveRDS(tasmax.jja.interp, resulting.object.path2)\n",
    "    \n",
    "} else {\n",
    "    \n",
    "    tasmax.jja.interp <- readRDS(resulting.object.path2)\n",
    "    \n",
    "}"
   ]
  },
  {
   "cell_type": "markdown",
   "id": "34e9d515-1faa-4bc0-9c00-95339350b532",
   "metadata": {},
   "source": [
    "Ya podemos agregarlo todo en un único grid."
   ]
  },
  {
   "cell_type": "code",
   "execution_count": null,
   "id": "098d52b1-482c-4d9a-a1e8-f75b8d19173c",
   "metadata": {},
   "outputs": [],
   "source": [
    "tasmax.jja.grid <- bindGrid(tasmax.jja.interp, dimension = \"member\")"
   ]
  },
  {
   "cell_type": "markdown",
   "id": "3807f0d3-a56d-417e-ba4d-344a68a4a6cf",
   "metadata": {},
   "source": [
    "Especificamos el nombre de los miembros de nuestro nuevo grid,"
   ]
  },
  {
   "cell_type": "code",
   "execution_count": null,
   "id": "765bfc9b-801d-4cbb-9303-b6a89fc0d206",
   "metadata": {},
   "outputs": [],
   "source": [
    "tasmax.jja.grid$Members <- datasets$dataset"
   ]
  },
  {
   "cell_type": "markdown",
   "id": "4bed2d06-b964-46d4-bde8-9f05d75a4238",
   "metadata": {},
   "source": [
    "Y generamos la **fiugra de las medias climatológicas**. Para poder ver bien el resultado bien aumentaremos el entorno gráfico previamente."
   ]
  },
  {
   "cell_type": "code",
   "execution_count": null,
   "id": "05b33d01-27df-43ee-9e4d-61317e904598",
   "metadata": {},
   "outputs": [],
   "source": [
    "options(repr.plot.width= 14, repr.plot.height= 6)"
   ]
  },
  {
   "cell_type": "code",
   "execution_count": null,
   "id": "e1cecde7-e463-4f3c-97f9-48e323d01118",
   "metadata": {},
   "outputs": [],
   "source": [
    "spatialPlot(climatology(tasmax.jja.grid), \n",
    "            backdrop.theme = \"countries\", \n",
    "            at = seq(20, 45, 1),\n",
    "            set.min = 20,\n",
    "            set.max = 45,\n",
    "            color.theme = \"YlOrBr\",\n",
    "            layout = c(getShape(tasmax.jja.grid, \"member\"), 1),\n",
    "            main = \"JJA mean maximum temperature for 1987-2016\",\n",
    "            strip = strip.custom(factor.levels = tasmax.jja.grid$Members))"
   ]
  },
  {
   "cell_type": "markdown",
   "id": "aebb1bda-37bc-405e-848f-2f679f18b0f8",
   "metadata": {},
   "source": [
    "### 5. Análisis básico"
   ]
  },
  {
   "cell_type": "markdown",
   "id": "1c0f2b59-04c1-4557-861e-b1206ea36a29",
   "metadata": {},
   "source": [
    "Los mapas que acabamos de crear en la sección anterior, muestran la media estacional (Junio-Julio-Agosto) de las temperaturas máximas mensuales en el periodo 1991-2000. Si queremos visualizar la **media climatológica de las máximas estacionales**, debemos realizar la agregación estacional con la función `aggregateGrid`. Previamente, nos aseguraremos que posibles valores `-Inf` se reconfiguren como `NA`."
   ]
  },
  {
   "cell_type": "code",
   "execution_count": null,
   "id": "2c4fab53-9457-4f17-bfa2-ceb801faddb0",
   "metadata": {},
   "outputs": [],
   "source": [
    "tasmax.jja.grid.max <- aggregateGrid(tasmax.jja.grid, aggr.y = list(FUN = \"max\", na.rm = TRUE)) %>% suppressWarnings"
   ]
  },
  {
   "cell_type": "markdown",
   "id": "9490f7a2-25dd-46e7-bfb8-35b2b752a5b1",
   "metadata": {},
   "source": [
    "Posteriormente, nos aseguraremos que posibles valores `-Inf` generados internamente por la función de base `max` se reconfiguren como `NA`."
   ]
  },
  {
   "cell_type": "code",
   "execution_count": null,
   "id": "f41c382a-5123-4a11-b266-009c68f38bf4",
   "metadata": {},
   "outputs": [],
   "source": [
    "tasmax.jja.grid.max$Data[which(is.infinite(tasmax.jja.grid.max$Data))] <- NA"
   ]
  },
  {
   "cell_type": "code",
   "execution_count": null,
   "id": "8e076d17-4c57-4c0f-a2f3-590fa8d2f45b",
   "metadata": {},
   "outputs": [],
   "source": [
    "spatialPlot(climatology(tasmax.jja.grid.max), \n",
    "            backdrop.theme = \"countries\", \n",
    "            at = seq(20, 45, 1),\n",
    "            set.min = 20,\n",
    "            set.max = 45,\n",
    "            color.theme = \"YlOrBr\", \n",
    "            layout = c(getShape(tasmax.jja.grid.max, \"member\"), 1),\n",
    "            main = \"JJA maximum temperature for 1991-2000\",\n",
    "            strip = strip.custom(factor.levels = tasmax.jja.grid.max$Members))"
   ]
  },
  {
   "cell_type": "markdown",
   "id": "37817465-a46f-4183-8ffc-d7b9f62a941b",
   "metadata": {},
   "source": [
    "Para ver las **series temporales** de la media espacial aplicaremos la función `temporalPlot`, que internamente realiza la **aggregación espacial** (por defecto la media). Sin embargo, dado que no todos los datasets tienen los valores acotados al territorio español, para que las medias espaciales sean comparables, debemos **aplicar primero una máscara**. Esta máscara la podemos generar a partir del dataset `AEMET-5KM-regular_Iberia_day` (el miembro en primera posición en nuestro `grid`), que es nuestra referencia en este notebook."
   ]
  },
  {
   "cell_type": "code",
   "execution_count": null,
   "id": "dced9ad2-beb5-4845-9f74-6f414fc9107e",
   "metadata": {},
   "outputs": [],
   "source": [
    "mask <- tasmax.jja.grid.max %>% subsetGrid(members = 1) %>% gridArithmetics(0, operator = \"*\")\n",
    "spatialPlot(climatology(mask))"
   ]
  },
  {
   "cell_type": "markdown",
   "id": "a37cbe74-6cf8-4084-855b-22b2b78bd62d",
   "metadata": {},
   "source": [
    "Posteriormente, aplicamos la máscara."
   ]
  },
  {
   "cell_type": "code",
   "execution_count": null,
   "id": "5f6419af-d259-4219-8c85-b3dd60cb99f3",
   "metadata": {},
   "outputs": [],
   "source": [
    "tasmax.jja.grid.max.masked <- gridArithmetics(tasmax.jja.grid.max, rep(list(mask), \n",
    "                                                                        getShape(tasmax.jja.grid.max, \"member\")) %>% bindGrid(dimension = \"member\"), \n",
    "                                               operator = \"+\") "
   ]
  },
  {
   "cell_type": "markdown",
   "id": "18ff9a6d-93f1-4807-b45d-4af106139538",
   "metadata": {},
   "source": [
    "Podemos comprobar el resultado volviendo a pintar los mapas."
   ]
  },
  {
   "cell_type": "code",
   "execution_count": null,
   "id": "5358b502-31e8-400b-aad4-ee322353d63e",
   "metadata": {},
   "outputs": [],
   "source": [
    "spatialPlot(climatology(tasmax.jja.grid.max.masked), \n",
    "            backdrop.theme = \"countries\", \n",
    "            at = seq(20, 45, 1),\n",
    "            set.min = 20,\n",
    "            set.max = 45,\n",
    "            color.theme = \"YlOrBr\", \n",
    "            layout = c(getShape(tasmax.jja.grid.max, \"member\"), 1),\n",
    "            main = \"JJA maximum temperature for 1987-2016\",\n",
    "            strip = strip.custom(factor.levels = tasmax.jja.grid.max$Members))"
   ]
  },
  {
   "cell_type": "markdown",
   "id": "4dfe8707-b4c9-4d2a-8861-ad70f7a27f5f",
   "metadata": {},
   "source": [
    "Ahora ya podemos comparar las medias regionales. La función `temporalPlot` reconocerá la dimensión miembro del `grid`, y dibujará la media multi-miembro, así como el rango multi-miembro, que se representará como una sombra."
   ]
  },
  {
   "cell_type": "code",
   "execution_count": null,
   "id": "f334ea13-4983-4065-ab94-93d39f0c19db",
   "metadata": {},
   "outputs": [],
   "source": [
    "temporalPlot(\"tasmax JJA - multimodel\" = tasmax.jja.grid.max.masked, \n",
    "             xyplot.custom = list(ylim = c(30, 40), \n",
    "                                  main = \"JJA maximum temperature\"))"
   ]
  },
  {
   "cell_type": "markdown",
   "id": "675e4f86-18b3-43bc-a505-7278caaa1d71",
   "metadata": {},
   "source": [
    "Podemos añadir las series de cada miembro independientemente. Recordemos los nombres de los diferentes miembros:"
   ]
  },
  {
   "cell_type": "code",
   "execution_count": null,
   "id": "2429a7a9-77de-4989-91ff-028ebf8a0fa8",
   "metadata": {},
   "outputs": [],
   "source": [
    "tasmax.jja.grid.max.masked$Members"
   ]
  },
  {
   "cell_type": "markdown",
   "id": "a31527f8-0b51-4254-b61f-84ccf3e2ecee",
   "metadata": {},
   "source": [
    "Ahora aplicaremos `subsetGrid` para extraer cada miembro y los añadiremos a `temporalPlot` incluyendo los nombres correspondientes."
   ]
  },
  {
   "cell_type": "code",
   "execution_count": null,
   "id": "71e00115-ac27-4ee9-81cc-dacb2a2f429e",
   "metadata": {},
   "outputs": [],
   "source": [
    "independent.members <- lapply(1:length(datasets$dataset), function(i) subsetGrid(tasmax.jja.grid.max.masked, members = i))\n",
    "\n",
    "temporalPlot(\"multimodel\" = tasmax.jja.grid.max.masked, \n",
    "             \"AEMET-5KM-regular_Iberia_day\" = independent.members[[1]],\n",
    "             \"PTI-grid-v0_Iberia_day\" = independent.members[[3]],\n",
    "             \"ERA5-Land_Iberia_day\" = independent.members[[4]],\n",
    "             xyplot.custom = list(main = \"JJA maximum temperature\"))"
   ]
  },
  {
   "cell_type": "markdown",
   "id": "eac7c910-0a7e-440c-b2e6-516866a50149",
   "metadata": {},
   "source": [
    "Ejecuta `help(temporalPlot)` para ver todas las posibilidades gráficas que ofrece."
   ]
  },
  {
   "cell_type": "markdown",
   "id": "951c65fa-8297-4038-86a6-660e34b0599e",
   "metadata": {},
   "source": [
    "La función que genera la figura de series temporales que hemos utilizado anteriormente realiza automáticamente la agregación espacial de los datos, utilizando la media como función de agregación por defecto y **ponderando los valores según la latitud**. Sin embargo, podemos controlar esta operación utilizando el parámetro `aggr.spatial`, tanto en la función `temporalPlot`, como en la función `aggregateGrid` si queremos generar el objeto agregado. En el siguiente ejemplo, calculamos la máxima espacial:"
   ]
  },
  {
   "cell_type": "code",
   "execution_count": null,
   "id": "68c238ee-4b87-40ee-b6ff-7cc5b1c315d0",
   "metadata": {},
   "outputs": [],
   "source": [
    "tasmax.jja.regional.max <- aggregateGrid(tasmax.jja.grid.max.masked, aggr.spatial = list(FUN = \"max\", na.rm = TRUE))"
   ]
  },
  {
   "cell_type": "markdown",
   "id": "53a661d0-699e-49f1-9cba-ec7ac899c75f",
   "metadata": {},
   "source": [
    "También podemos crear las series temporales del objeto previamente agregado:"
   ]
  },
  {
   "cell_type": "code",
   "execution_count": null,
   "id": "d89c95c7-be7f-44f0-be9e-0ca6ba258d85",
   "metadata": {},
   "outputs": [],
   "source": [
    "temporalPlot(\"multimodel\" = tasmax.jja.regional.max, cols = \"purple\")"
   ]
  },
  {
   "cell_type": "markdown",
   "id": "4a80b259-6560-4e87-8402-c46e5b9bd3ca",
   "metadata": {},
   "source": [
    "El **framework *climate4R*** ofrece muchas otras **funcionalidades de operaciones espaciales y temporales**, como **interpolación, subsetting o intersección espacial**. Además, brinda funcionalidades para la **corrección de sesgo y downscaling**. Consulta [Iturbide et al., 2019](https://www.sciencedirect.com/science/article/pii/S1364815218303049?via%3Dihub) y el repositorio de [github de climate4R](https://github.com/SantanderMetGroup/climate4R) para más información.\n"
   ]
  },
  {
   "cell_type": "markdown",
   "id": "25b4eded-2ca3-4777-b6c0-f5aeccab189c",
   "metadata": {},
   "source": [
    "***\n",
    "\n",
    "### Session Info"
   ]
  },
  {
   "cell_type": "code",
   "execution_count": null,
   "id": "3add385b-bbd6-46bf-b445-43815c4bd516",
   "metadata": {},
   "outputs": [],
   "source": [
    "sessionInfo()"
   ]
  }
 ],
 "metadata": {
  "kernelspec": {
   "display_name": "R",
   "language": "R",
   "name": "ir"
  },
  "language_info": {
   "codemirror_mode": "r",
   "file_extension": ".r",
   "mimetype": "text/x-r-source",
   "name": "R",
   "pygments_lexer": "r",
   "version": "4.3.3"
  }
 },
 "nbformat": 4,
 "nbformat_minor": 5
}
